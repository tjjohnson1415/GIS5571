{
 "cells": [
  {
   "cell_type": "code",
   "execution_count": 61,
   "metadata": {},
   "outputs": [],
   "source": [
    "import pandas\n",
    "from arcgis import GeoAccessor"
   ]
  },
  {
   "cell_type": "code",
   "execution_count": 62,
   "metadata": {},
   "outputs": [],
   "source": [
    "#File paths\n",
    "stem_path = r'C:/Users/tjjoh/Documents/GIS5571'\n",
    "gdb_path = stem_path + r'/Lab3_GDB.gdb'\n",
    "\n",
    "fc_path = gdb_path + r'/ThirtyDayTemperature'\n",
    "\n",
    "idw_max_path = gdb_path + r'/IDW_max'\n",
    "idw_min_path = gdb_path + r'/IDW_min'\n",
    "idw_avg_path = gdb_path + r'/IDW_avg'\n",
    "\n",
    "natn_max_path = gdb_path + r'/NatN_max'\n",
    "natn_min_path = gdb_path + r'/NatN_min'\n",
    "natn_avg_path = gdb_path + r'/NatN_avg'\n",
    "\n",
    "krig_max_path = gdb_path + r'/Krig_max'\n",
    "krig_min_path = gdb_path + r'/Krig_min'\n",
    "krig_avg_path = gdb_path + r'/Krig_avg'\n",
    "\n",
    "max_layer = stem_path + r'/GIS5571/Lab3/max_style.lyrx'\n",
    "min_layer = stem_path + r'/GIS5571/Lab3/min_style.lyrx'\n",
    "avg_layer = stem_path + r'/GIS5571/Lab3/avg_style.lyrx'"
   ]
  },
  {
   "cell_type": "code",
   "execution_count": 63,
   "metadata": {},
   "outputs": [
    {
     "data": {
      "text/html": [
       "<div class='gpresult'><h2>Messages</h2><div id='messages' data-messages='[\"Start Time: Tuesday, November 26, 2024 11:21:33 AM\",\"Succeeded at Tuesday, November 26, 2024 11:21:33 AM (Elapsed Time: 0.20 seconds)\"]' data-show='true'><div id = 'default' /></div></div>"
      ],
      "text/plain": [
       "<Result 'C:/Users/tjjoh/Documents/GIS5571/Lab3_GDB.gdb'>"
      ]
     },
     "execution_count": 63,
     "metadata": {},
     "output_type": "execute_result"
    }
   ],
   "source": [
    "#Create file geodatabase\n",
    "arcpy.management.CreateFileGDB(\n",
    "    out_folder_path = stem_path,\n",
    "    out_name = 'Lab3_GDB',\n",
    "    out_version = 'CURRENT'\n",
    ")"
   ]
  },
  {
   "cell_type": "code",
   "execution_count": 64,
   "metadata": {},
   "outputs": [],
   "source": [
    "#url to retrieve last 30 days of weather data from NDAWN\n",
    "url = r'https://ndawn.ndsu.nodak.edu/table.csv?station>0&variable=ddavt&variable=ddmxt&variable=ddmnt&variableyear=2024&ttype=daily&quick_pick=30_d&begin_date=2024-11-11&end_date=2024-11-11'"
   ]
  },
  {
   "cell_type": "code",
   "execution_count": 65,
   "metadata": {},
   "outputs": [],
   "source": [
    "#Read data with pandas\n",
    "data = pandas.read_csv(url, skiprows = [0,1,2,4])"
   ]
  },
  {
   "cell_type": "code",
   "execution_count": 66,
   "metadata": {},
   "outputs": [],
   "source": [
    "#Aggregate the data to find the highest high, lowest low, and overall average for each station\n",
    "summarized_data = data.groupby('Station Name').agg({'Latitude': 'mean', 'Longitude': 'mean', 'Day': 'count', 'Max Temp': 'max', 'Min Temp': 'min', 'Avg Temp': 'mean'}).reset_index()"
   ]
  },
  {
   "cell_type": "code",
   "execution_count": 67,
   "metadata": {},
   "outputs": [],
   "source": [
    "#Convert the aggregated data to a spatially enabled dataframe\n",
    "data_sedf = GeoAccessor.from_xy(summarized_data, x_column = 'Longitude', y_column = 'Latitude', sr = 4326)"
   ]
  },
  {
   "cell_type": "code",
   "execution_count": 68,
   "metadata": {},
   "outputs": [],
   "source": [
    "#Remove weather stations that are missing data\n",
    "data_sedf = data_sedf[data_sedf['Day'] == 30]"
   ]
  },
  {
   "cell_type": "code",
   "execution_count": 69,
   "metadata": {},
   "outputs": [
    {
     "data": {
      "text/plain": [
       "'C:\\\\Users\\\\tjjoh\\\\Documents\\\\GIS5571\\\\Lab3_GDB.gdb\\\\ThirtyDayTemperature'"
      ]
     },
     "execution_count": 69,
     "metadata": {},
     "output_type": "execute_result"
    }
   ],
   "source": [
    "#Convert data to a feature class\n",
    "data_sedf.spatial.to_featureclass(location = fc_path)"
   ]
  },
  {
   "cell_type": "markdown",
   "metadata": {},
   "source": [
    "**IDW**"
   ]
  },
  {
   "cell_type": "code",
   "execution_count": 70,
   "metadata": {},
   "outputs": [],
   "source": [
    "with arcpy.EnvManager(scratchWorkspace = gdb_path):\n",
    "    IDW_max = arcpy.sa.Idw(\n",
    "        in_point_features = fc_path,\n",
    "        z_field = 'max_temp',\n",
    "        cell_size = 0.021010908,\n",
    "        power = 2,\n",
    "        search_radius = 'VARIABLE 12',\n",
    "        in_barrier_polyline_features=None\n",
    "    )\n",
    "    IDW_max.save(idw_max_path)"
   ]
  },
  {
   "cell_type": "code",
   "execution_count": 71,
   "metadata": {},
   "outputs": [],
   "source": [
    "with arcpy.EnvManager(scratchWorkspace = gdb_path):\n",
    "    IDW_min = arcpy.sa.Idw(\n",
    "        in_point_features = fc_path,\n",
    "        z_field = 'min_temp',\n",
    "        cell_size = 0.021010908,\n",
    "        power = 2,\n",
    "        search_radius = 'VARIABLE 12',\n",
    "        in_barrier_polyline_features=None\n",
    "    )\n",
    "    IDW_min.save(idw_min_path)"
   ]
  },
  {
   "cell_type": "code",
   "execution_count": 72,
   "metadata": {},
   "outputs": [],
   "source": [
    "with arcpy.EnvManager(scratchWorkspace = gdb_path):\n",
    "    IDW_avg = arcpy.sa.Idw(\n",
    "        in_point_features = fc_path,\n",
    "        z_field = 'avg_temp',\n",
    "        cell_size = 0.021010908,\n",
    "        power = 2,\n",
    "        search_radius = 'VARIABLE 12',\n",
    "        in_barrier_polyline_features=None\n",
    "    )\n",
    "    IDW_avg.save(idw_avg_path)"
   ]
  },
  {
   "cell_type": "markdown",
   "metadata": {},
   "source": [
    "**Natural Neighbor**"
   ]
  },
  {
   "cell_type": "code",
   "execution_count": 73,
   "metadata": {},
   "outputs": [],
   "source": [
    "with arcpy.EnvManager(scratchWorkspace = gdb_path):\n",
    "    NatN_max = arcpy.sa.NaturalNeighbor(\n",
    "        in_point_features = 'ThirtyDayTemperature',\n",
    "        z_field = 'max_temp',\n",
    "        cell_size = 0.021010908\n",
    "    )\n",
    "    NatN_max.save(natn_max_path)"
   ]
  },
  {
   "cell_type": "code",
   "execution_count": 74,
   "metadata": {},
   "outputs": [],
   "source": [
    "with arcpy.EnvManager(scratchWorkspace = gdb_path):\n",
    "    NatN_min = arcpy.sa.NaturalNeighbor(\n",
    "        in_point_features = 'ThirtyDayTemperature',\n",
    "        z_field = 'min_temp',\n",
    "        cell_size = 0.021010908\n",
    "    )\n",
    "    NatN_min.save(natn_min_path)"
   ]
  },
  {
   "cell_type": "code",
   "execution_count": 75,
   "metadata": {},
   "outputs": [],
   "source": [
    "with arcpy.EnvManager(scratchWorkspace = gdb_path):\n",
    "    NatN_avg = arcpy.sa.NaturalNeighbor(\n",
    "        in_point_features = 'ThirtyDayTemperature',\n",
    "        z_field = 'avg_temp',\n",
    "        cell_size = 0.021010908\n",
    "    )\n",
    "    NatN_avg.save(natn_avg_path)"
   ]
  },
  {
   "cell_type": "markdown",
   "metadata": {},
   "source": [
    "**Kriging**"
   ]
  },
  {
   "cell_type": "code",
   "execution_count": 76,
   "metadata": {},
   "outputs": [],
   "source": [
    "with arcpy.EnvManager(scratchWorkspace = gdb_path):\n",
    "    Krig_max = arcpy.sa.Kriging(\n",
    "        in_point_features = fc_path,\n",
    "        z_field = 'max_temp',\n",
    "        kriging_model = 'Spherical # # # #',\n",
    "        cell_size = 0.021010908,\n",
    "        search_radius = 'VARIABLE 12',\n",
    "        out_variance_prediction_raster = None\n",
    "    )\n",
    "    Krig_max.save(krig_max_path)"
   ]
  },
  {
   "cell_type": "code",
   "execution_count": 77,
   "metadata": {},
   "outputs": [],
   "source": [
    "with arcpy.EnvManager(scratchWorkspace = gdb_path):\n",
    "    Krig_min = arcpy.sa.Kriging(\n",
    "        in_point_features = fc_path,\n",
    "        z_field = 'min_temp',\n",
    "        kriging_model = 'Spherical # # # #',\n",
    "        cell_size = 0.021010908,\n",
    "        search_radius = 'VARIABLE 12',\n",
    "        out_variance_prediction_raster = None\n",
    "    )\n",
    "    Krig_min.save(krig_min_path)"
   ]
  },
  {
   "cell_type": "code",
   "execution_count": 78,
   "metadata": {},
   "outputs": [],
   "source": [
    "with arcpy.EnvManager(scratchWorkspace = gdb_path):\n",
    "    Krig_avg = arcpy.sa.Kriging(\n",
    "        in_point_features = fc_path,\n",
    "        z_field = 'avg_temp',\n",
    "        kriging_model = 'Spherical # # # #',\n",
    "        cell_size = 0.021010908,\n",
    "        search_radius = 'VARIABLE 12',\n",
    "        out_variance_prediction_raster = None\n",
    "    )\n",
    "    Krig_avg.save(krig_avg_path)"
   ]
  },
  {
   "cell_type": "markdown",
   "metadata": {},
   "source": [
    "**Standardize Symbology**"
   ]
  },
  {
   "cell_type": "code",
   "execution_count": 79,
   "metadata": {},
   "outputs": [],
   "source": [
    "project = arcpy.mp.ArcGISProject('CURRENT')"
   ]
  },
  {
   "cell_type": "code",
   "execution_count": 80,
   "metadata": {},
   "outputs": [],
   "source": [
    "map = project.listMaps(\"Map\")[0]\n",
    "max_layers = ['IDW_max', 'NatN_max', 'Krig_max']\n",
    "min_layers = ['IDW_min', 'NatN_min', 'Krig_min']\n",
    "avg_layers = ['IDW_avg', 'NatN_avg', 'Krig_avg']"
   ]
  },
  {
   "cell_type": "code",
   "execution_count": 81,
   "metadata": {},
   "outputs": [],
   "source": [
    "for layer in map.listLayers():\n",
    "    if layer.name in max_layers:\n",
    "        symbology_layer = arcpy.mp.LayerFile(max_layer).listLayers()[0]\n",
    "        layer.symbology = symbology_layer.symbology\n",
    "    if layer.name in min_layers:\n",
    "        symbology_layer = arcpy.mp.LayerFile(min_layer).listLayers()[0]\n",
    "        layer.symbology = symbology_layer.symbology\n",
    "    if layer.name in avg_layers:\n",
    "        symbology_layer = arcpy.mp.LayerFile(avg_layer).listLayers()[0]\n",
    "        layer.symbology = symbology_layer.symbology"
   ]
  },
  {
   "cell_type": "code",
   "execution_count": null,
   "metadata": {},
   "outputs": [],
   "source": []
  }
 ],
 "metadata": {
  "kernelspec": {
   "display_name": "ArcGISPro",
   "language": "Python",
   "name": "python3"
  },
  "language_info": {
   "file_extension": ".py",
   "name": "python",
   "version": "3"
  }
 },
 "nbformat": 4,
 "nbformat_minor": 2
}
