{
 "cells": [
  {
   "cell_type": "code",
   "execution_count": 6,
   "metadata": {},
   "outputs": [],
   "source": [
    "import pandas\n",
    "from arcgis.features import GeoAccessor"
   ]
  },
  {
   "cell_type": "code",
   "execution_count": 53,
   "metadata": {},
   "outputs": [],
   "source": [
    "#File paths\n",
    "stem_path = r'C:/Users/tjjoh/Documents/GIS5571'\n",
    "\n",
    "gdb_path = stem_path + '/FinalProject_GDB.gdb'\n",
    "fc_path = gdb_path + r'/Weather'\n",
    "\n",
    "weather_noon_path = gdb_path + r'/Weather1200'\n",
    "\n",
    "idw1_path = gdb_path + r'/IDW1'\n",
    "idw2_path = gdb_path + r'/IDW2'\n",
    "natneigh_path = gdb_path + r'/natneigh'\n",
    "spline_path = gdb_path + r'/spline'\n",
    "kriging_path = gdb_path + r'/kriging'"
   ]
  },
  {
   "cell_type": "code",
   "execution_count": 19,
   "metadata": {},
   "outputs": [
    {
     "data": {
      "text/html": [
       "<div class='gpresult'><h2>Messages</h2><div id='messages' data-messages='[\"Start Time: Saturday, November 2, 2024 11:11:19 PM\",\"Succeeded at Saturday, November 2, 2024 11:11:19 PM (Elapsed Time: 0.14 seconds)\"]' data-show='true'><div id = 'default' /></div></div>"
      ],
      "text/plain": [
       "<Result 'C:/Users/tjjoh/Documents/GIS5571/FinalProject_GDB.gdb'>"
      ]
     },
     "execution_count": 19,
     "metadata": {},
     "output_type": "execute_result"
    }
   ],
   "source": [
    "#Create new file geodatabase\n",
    "arcpy.management.CreateFileGDB(\n",
    "    out_folder_path = stem_path,\n",
    "    out_name = 'FinalProject_GDB',\n",
    "    out_version = 'CURRENT'\n",
    ")"
   ]
  },
  {
   "cell_type": "code",
   "execution_count": 55,
   "metadata": {},
   "outputs": [],
   "source": [
    "#URL to retrieve weather data from NDAWN\n",
    "url = 'https://ndawn.ndsu.nodak.edu/table.csv?station>0&variable=hdt&ttype=hourly&quick_pick=&begin_date=2024-03-25&end_date=2024-03-25'"
   ]
  },
  {
   "cell_type": "code",
   "execution_count": 56,
   "metadata": {},
   "outputs": [],
   "source": [
    "#Read data into a pandas dataframe\n",
    "weather = pandas.read_csv(url, skiprows = [0,1,2,4])"
   ]
  },
  {
   "cell_type": "code",
   "execution_count": 57,
   "metadata": {},
   "outputs": [],
   "source": [
    "#Convert data to a spatially-enabled dataframe\n",
    "weather_sedf = GeoAccessor.from_xy(weather, x_column = 'Longitude', y_column = 'Latitude', sr = 4326)"
   ]
  },
  {
   "cell_type": "code",
   "execution_count": 58,
   "metadata": {
    "scrolled": false
   },
   "outputs": [],
   "source": [
    "#Convert spatially-enabled dataframe into a feature class\n",
    "weather_fc = weather_sedf.spatial.to_featureclass(location = fc_path)"
   ]
  },
  {
   "cell_type": "code",
   "execution_count": 59,
   "metadata": {},
   "outputs": [
    {
     "data": {
      "text/html": [
       "<div class='gpresult'><h2>Messages</h2><div id='messages' data-messages='[\"Start Time: Saturday, November 2, 2024 11:46:42 PM\",\"Succeeded at Saturday, November 2, 2024 11:46:42 PM (Elapsed Time: 0.10 seconds)\"]' data-show='true'><div id = 'default' /></div></div>"
      ],
      "text/plain": [
       "<Result 'temp_layer'>"
      ]
     },
     "execution_count": 59,
     "metadata": {},
     "output_type": "execute_result"
    }
   ],
   "source": [
    "#Create a new temporary feature layer\n",
    "arcpy.management.MakeFeatureLayer(\n",
    "    in_features = weather_fc,\n",
    "    out_layer = 'temp_layer'\n",
    ")"
   ]
  },
  {
   "cell_type": "code",
   "execution_count": 60,
   "metadata": {},
   "outputs": [
    {
     "data": {
      "text/html": [
       "<div class='gpresult'><h2>Messages</h2><div id='messages' data-messages='[\"Start Time: Saturday, November 2, 2024 11:46:44 PM\",\"Succeeded at Saturday, November 2, 2024 11:46:44 PM (Elapsed Time: 0.02 seconds)\"]' data-show='true'><div id = 'default' /></div></div>"
      ],
      "text/plain": [
       "<Result 'temp_layer'>"
      ]
     },
     "execution_count": 60,
     "metadata": {},
     "output_type": "execute_result"
    }
   ],
   "source": [
    "#Select only data point for the 12:00 hour\n",
    "arcpy.management.SelectLayerByAttribute(\n",
    "    in_layer_or_view = 'temp_layer',\n",
    "    selection_type = 'NEW_SELECTION',\n",
    "    where_clause = 'hour = 1200'\n",
    ")"
   ]
  },
  {
   "cell_type": "code",
   "execution_count": 61,
   "metadata": {},
   "outputs": [
    {
     "data": {
      "text/html": [
       "<div class='gpresult'><h2>Messages</h2><div id='messages' data-messages='[\"Start Time: Saturday, November 2, 2024 11:46:45 PM\",\"Succeeded at Saturday, November 2, 2024 11:46:45 PM (Elapsed Time: 0.41 seconds)\"]' data-show='true'><div id = 'default' /></div></div>"
      ],
      "text/plain": [
       "<Result 'C:\\\\Users\\\\tjjoh\\\\Documents\\\\GIS5571\\\\FinalProject_GDB.gdb\\\\Weather1200'>"
      ]
     },
     "execution_count": 61,
     "metadata": {},
     "output_type": "execute_result"
    }
   ],
   "source": [
    "#Copy features from the temporary layer to a new feature class\n",
    "arcpy.management.CopyFeatures(\n",
    "    in_features = 'temp_layer',\n",
    "    out_feature_class = weather_noon_path\n",
    ")"
   ]
  },
  {
   "cell_type": "code",
   "execution_count": 62,
   "metadata": {},
   "outputs": [
    {
     "data": {
      "text/html": [
       "<div class='gpresult'><h2>Messages</h2><div id='messages' data-messages='[\"Start Time: Saturday, November 2, 2024 11:46:46 PM\",\"Succeeded at Saturday, November 2, 2024 11:46:46 PM (Elapsed Time: 0.17 seconds)\"]' data-show='true'><div id = 'default' /></div></div>"
      ],
      "text/plain": [
       "<Result 'true'>"
      ]
     },
     "execution_count": 62,
     "metadata": {},
     "output_type": "execute_result"
    }
   ],
   "source": [
    "#Delete temporary layer\n",
    "arcpy.management.Delete(\n",
    "    in_data = 'temp_layer'\n",
    ")"
   ]
  },
  {
   "cell_type": "markdown",
   "metadata": {},
   "source": [
    "**Deterministic Interpolation Methods**"
   ]
  },
  {
   "cell_type": "code",
   "execution_count": 63,
   "metadata": {},
   "outputs": [],
   "source": [
    "#First-order inverse distance weighting interpolation\n",
    "with arcpy.EnvManager(scratchWorkspace = gdb_path):\n",
    "    IDW1 = arcpy.sa.Idw(\n",
    "        in_point_features = weather_noon_path,\n",
    "        z_field = 'avg_air_temp',\n",
    "        cell_size = 0.021010908,\n",
    "        power = 1,\n",
    "        search_radius = 'VARIABLE 12',\n",
    "        in_barrier_polyline_features = None\n",
    "    )\n",
    "    IDW1.save(idw1_path)"
   ]
  },
  {
   "cell_type": "code",
   "execution_count": 64,
   "metadata": {},
   "outputs": [],
   "source": [
    "#Second-order inverse distance weighting interpolation\n",
    "with arcpy.EnvManager(scratchWorkspace = gdb_path):\n",
    "    IDW2 = arcpy.sa.Idw(\n",
    "        in_point_features = weather_noon_path,\n",
    "        z_field = 'avg_air_temp',\n",
    "        cell_size = 0.021010908,\n",
    "        power = 2,\n",
    "        search_radius = 'VARIABLE 12',\n",
    "        in_barrier_polyline_features = None\n",
    "    )\n",
    "    IDW2.save(idw2_path)"
   ]
  },
  {
   "cell_type": "code",
   "execution_count": 65,
   "metadata": {},
   "outputs": [],
   "source": [
    "#Natural neighbor interpolation\n",
    "with arcpy.EnvManager(scratchWorkspace = gdb_path):\n",
    "    NatNeigh = arcpy.sa.NaturalNeighbor(\n",
    "        in_point_features = weather_noon_path,\n",
    "        z_field = 'avg_air_temp',\n",
    "        cell_size = 0.021010908\n",
    "    )\n",
    "    NatNeigh.save(natneigh_path)"
   ]
  },
  {
   "cell_type": "code",
   "execution_count": 66,
   "metadata": {},
   "outputs": [],
   "source": [
    "#Spline interpolation\n",
    "with arcpy.EnvManager(scratchWorkspace = gdb_path):\n",
    "    Spline = arcpy.sa.Spline(\n",
    "        in_point_features = weather_noon_path,\n",
    "        z_field = 'avg_air_temp',\n",
    "        cell_size = 0.021010908,\n",
    "        spline_type = 'REGULARIZED',\n",
    "        weight = 0.1,\n",
    "        number_points = 12\n",
    "    )\n",
    "    Spline.save(spline_path)"
   ]
  },
  {
   "cell_type": "markdown",
   "metadata": {},
   "source": [
    "**Stochastic Interpolation Methods**"
   ]
  },
  {
   "cell_type": "code",
   "execution_count": 67,
   "metadata": {},
   "outputs": [],
   "source": [
    "with arcpy.EnvManager(scratchWorkspace = gdb_path):\n",
    "    Krig = arcpy.sa.Kriging(\n",
    "        in_point_features = weather_noon_path,\n",
    "        z_field = 'avg_air_temp',\n",
    "        kriging_model = 'Spherical # # # #',\n",
    "        cell_size = 0.021010908,\n",
    "        search_radius = 'VARIABLE 12',\n",
    "        out_variance_prediction_raster = None\n",
    "    )\n",
    "    Krig.save(kriging_path)"
   ]
  },
  {
   "cell_type": "code",
   "execution_count": null,
   "metadata": {},
   "outputs": [],
   "source": []
  }
 ],
 "metadata": {
  "kernelspec": {
   "display_name": "ArcGISPro",
   "language": "Python",
   "name": "python3"
  },
  "language_info": {
   "file_extension": ".py",
   "name": "python",
   "version": "3"
  }
 },
 "nbformat": 4,
 "nbformat_minor": 2
}
