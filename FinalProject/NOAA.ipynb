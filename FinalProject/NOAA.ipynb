{
 "cells": [
  {
   "cell_type": "code",
   "execution_count": 1,
   "metadata": {},
   "outputs": [],
   "source": [
    "import requests\n",
    "import pandas\n",
    "from arcgis.features import GeoAccessor"
   ]
  },
  {
   "cell_type": "code",
   "execution_count": 2,
   "metadata": {},
   "outputs": [],
   "source": [
    "stem_path = r'C:/Users/tjjoh/Documents/GIS5571'\n",
    "\n",
    "gdb_path = stem_path + '/FinalProject_GDB.gdb'\n",
    "noaa_fc_path = gdb_path + r'/NOAA'\n",
    "\n",
    "idw1_noaa_path = gdb_path + r'/NOAA_IDW1'\n",
    "idw2_noaa_path = gdb_path + r'/NOAA_IDW2'\n",
    "natneigh_noaa_path = gdb_path + r'/NOAA_natneigh'\n",
    "spline_noaa_path = gdb_path + r'/NOAA_spline'\n",
    "kriging_noaa_path = gdb_path + r'/NOAA_kriging'"
   ]
  },
  {
   "cell_type": "code",
   "execution_count": 3,
   "metadata": {},
   "outputs": [],
   "source": [
    "#URL for most recent data\n",
    "url = r'https://api.synopticlabs.org/v2/stations/latest?token=d8c6aee36a994f90857925cea26934be&bbox=-105%2C42%2C-86.5%2C49.5&minmax=1&minmaxtype=local&units=temp%7Cf%2Cspeed%7Cmph&within=90&status=active&qc_checks=all'"
   ]
  },
  {
   "cell_type": "code",
   "execution_count": 4,
   "metadata": {},
   "outputs": [],
   "source": [
    "#URL for select time\n",
    "url = r'https://api.synopticlabs.org/v2/stations/nearesttime?token=d8c6aee36a994f90857925cea26934be&bbox=-105%2C42%2C-86.5%2C49.5&minmax=1&minmaxtype=local&units=temp%7Cf%2Cspeed%7Cmph&attime=202403251800&within=90&status=active&qc_checks=all'"
   ]
  },
  {
   "cell_type": "code",
   "execution_count": 5,
   "metadata": {},
   "outputs": [],
   "source": [
    "response = requests.get(url)"
   ]
  },
  {
   "cell_type": "code",
   "execution_count": 6,
   "metadata": {},
   "outputs": [],
   "source": [
    "noaa_df = pandas.json_normalize(response.json()['STATION'])"
   ]
  },
  {
   "cell_type": "code",
   "execution_count": 7,
   "metadata": {},
   "outputs": [],
   "source": [
    "noaa_df = noaa_df.rename(columns = {'OBSERVATIONS.air_temp_value_1.value' : 'Temperature',\n",
    "                                    'OBSERVATIONS.relative_humidity_value_1.value' : 'Humidity',\n",
    "                                    'OBSERVATIONS.wind_speed_value_1.value' : 'WindSpeed',\n",
    "                                    'OBSERVATIONS.wind_direction_value_1.value' : 'WindDirection',\n",
    "                                    'OBSERVATIONS.altimeter_value_1.value' : 'Pressure',\n",
    "                                   })"
   ]
  },
  {
   "cell_type": "code",
   "execution_count": 8,
   "metadata": {},
   "outputs": [],
   "source": [
    "noaa_df = noaa_df[['ID','NAME','ELEVATION','LATITUDE','LONGITUDE','STATE','TIMEZONE',\n",
    "                   'Temperature','Humidity','WindSpeed','WindDirection','Pressure']]"
   ]
  },
  {
   "cell_type": "code",
   "execution_count": 9,
   "metadata": {},
   "outputs": [],
   "source": [
    "noaa_sedf = GeoAccessor.from_xy(noaa_df, x_column = 'LONGITUDE', y_column = 'LATITUDE', sr = 4326)"
   ]
  },
  {
   "cell_type": "code",
   "execution_count": 10,
   "metadata": {},
   "outputs": [],
   "source": [
    "noaa_fc = noaa_sedf.spatial.to_featureclass(location = noaa_fc_path)"
   ]
  },
  {
   "cell_type": "code",
   "execution_count": 11,
   "metadata": {},
   "outputs": [],
   "source": [
    "#First-order inverse distance weighting interpolation\n",
    "with arcpy.EnvManager(scratchWorkspace = gdb_path):\n",
    "    IDW1 = arcpy.sa.Idw(\n",
    "        in_point_features = noaa_fc_path,\n",
    "        z_field = 'Temperature',\n",
    "        cell_size = 0.021010908,\n",
    "        power = 1,\n",
    "        search_radius = 'VARIABLE 12',\n",
    "        in_barrier_polyline_features = None\n",
    "    )\n",
    "    IDW1.save(idw1_noaa_path)"
   ]
  },
  {
   "cell_type": "code",
   "execution_count": 12,
   "metadata": {},
   "outputs": [],
   "source": [
    "#Second-order inverse distance weighting interpolation\n",
    "with arcpy.EnvManager(scratchWorkspace = gdb_path):\n",
    "    IDW2 = arcpy.sa.Idw(\n",
    "        in_point_features = noaa_fc_path,\n",
    "        z_field = 'Temperature',\n",
    "        cell_size = 0.021010908,\n",
    "        power = 2,\n",
    "        search_radius = 'VARIABLE 12',\n",
    "        in_barrier_polyline_features = None\n",
    "    )\n",
    "    IDW2.save(idw2_noaa_path)"
   ]
  },
  {
   "cell_type": "code",
   "execution_count": 13,
   "metadata": {},
   "outputs": [],
   "source": [
    "#Natural neighbor interpolation\n",
    "with arcpy.EnvManager(scratchWorkspace = gdb_path):\n",
    "    NatNeigh = arcpy.sa.NaturalNeighbor(\n",
    "        in_point_features = noaa_fc_path,\n",
    "        z_field = 'Temperature',\n",
    "        cell_size = 0.021010908\n",
    "    )\n",
    "    NatNeigh.save(natneigh_noaa_path)"
   ]
  },
  {
   "cell_type": "code",
   "execution_count": 14,
   "metadata": {},
   "outputs": [],
   "source": [
    "#Spline interpolation\n",
    "with arcpy.EnvManager(scratchWorkspace = gdb_path):\n",
    "    Spline = arcpy.sa.Spline(\n",
    "        in_point_features = noaa_fc_path,\n",
    "        z_field = 'Temperature',\n",
    "        cell_size = 0.021010908,\n",
    "        spline_type = 'REGULARIZED',\n",
    "        weight = 0.1,\n",
    "        number_points = 12\n",
    "    )\n",
    "    Spline.save(spline_noaa_path)"
   ]
  },
  {
   "cell_type": "code",
   "execution_count": 15,
   "metadata": {},
   "outputs": [],
   "source": [
    "with arcpy.EnvManager(scratchWorkspace = gdb_path):\n",
    "    Krig = arcpy.sa.Kriging(\n",
    "        in_point_features = noaa_fc_path,\n",
    "        z_field = 'Temperature',\n",
    "        kriging_model = 'Spherical # # # #',\n",
    "        cell_size = 0.021010908,\n",
    "        search_radius = 'VARIABLE 12',\n",
    "        out_variance_prediction_raster = None\n",
    "    )\n",
    "    Krig.save(kriging_noaa_path)"
   ]
  },
  {
   "cell_type": "code",
   "execution_count": null,
   "metadata": {},
   "outputs": [],
   "source": []
  }
 ],
 "metadata": {
  "kernelspec": {
   "display_name": "ArcGISPro",
   "language": "Python",
   "name": "python3"
  },
  "language_info": {
   "file_extension": ".py",
   "name": "python",
   "version": "3"
  }
 },
 "nbformat": 4,
 "nbformat_minor": 2
}
