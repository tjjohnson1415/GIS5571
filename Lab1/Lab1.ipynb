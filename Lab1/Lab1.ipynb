{
 "cells": [
  {
   "cell_type": "code",
   "execution_count": 1,
   "metadata": {},
   "outputs": [],
   "source": [
    "import requests\n",
    "import pandas\n",
    "from arcgis.features import GeoAccessor\n",
    "from arcgis.geometry import SpatialReference\n",
    "import zipfile"
   ]
  },
  {
   "cell_type": "markdown",
   "metadata": {},
   "source": [
    "Load data from Minnesota Geospatial Commons"
   ]
  },
  {
   "cell_type": "code",
   "execution_count": 2,
   "metadata": {},
   "outputs": [],
   "source": [
    "#Data url\n",
    "mngeo_url = 'http://gisdata.mn.gov/api/3/action/package_show?id=bdry-counties-in-minnesota'"
   ]
  },
  {
   "cell_type": "code",
   "execution_count": 3,
   "metadata": {},
   "outputs": [],
   "source": [
    "#Use CKAN API to call data from Minnesota Geospatial Commons\n",
    "mngeo_response = requests.get(mngeo_url)"
   ]
  },
  {
   "cell_type": "code",
   "execution_count": 4,
   "metadata": {},
   "outputs": [],
   "source": [
    "#View the response as a json\n",
    "mngeo_data = mngeo_response.json()"
   ]
  },
  {
   "cell_type": "code",
   "execution_count": 5,
   "metadata": {},
   "outputs": [],
   "source": [
    "#Navigate dictionaries to available data formats\n",
    "mngeo_resources = mngeo_data['result']['resources']"
   ]
  },
  {
   "cell_type": "code",
   "execution_count": 6,
   "metadata": {},
   "outputs": [],
   "source": [
    "#Find the url of the shapefile\n",
    "mngeo_shp_url = None\n",
    "for resource in mngeo_resources:\n",
    "    if resource['format'] == 'SHP':\n",
    "        mngeo_shp_url = resource['url']\n",
    "        break"
   ]
  },
  {
   "cell_type": "code",
   "execution_count": 7,
   "metadata": {},
   "outputs": [],
   "source": [
    "#Write the data to a locally stored, zipped shapefile\n",
    "mngeo_shp = requests.get(mngeo_shp_url)\n",
    "with open('C:/Users/tjjoh/Documents/GIS5571/mn-counties.zip', 'wb') as file:\n",
    "    file.write(mngeo_shp.content)"
   ]
  },
  {
   "cell_type": "code",
   "execution_count": 8,
   "metadata": {},
   "outputs": [],
   "source": [
    "#Unzip the data\n",
    "with zipfile.ZipFile('C:/Users/tjjoh/Documents/GIS5571/mn-counties.zip', 'r') as zip_ref:\n",
    "    zip_ref.extractall('C:/Users/tjjoh/Documents/GIS5571/mn-counties')"
   ]
  },
  {
   "cell_type": "code",
   "execution_count": 9,
   "metadata": {},
   "outputs": [],
   "source": [
    "#Convert data to a sedf\n",
    "mn_counties_sedf = GeoAccessor.from_featureclass('C:/Users/tjjoh/Documents/GIS5571/mn-counties/mn_county_boundaries_multipart.shp')"
   ]
  },
  {
   "cell_type": "code",
   "execution_count": 10,
   "metadata": {},
   "outputs": [
    {
     "data": {
      "text/plain": [
       "True"
      ]
     },
     "execution_count": 10,
     "metadata": {},
     "output_type": "execute_result"
    }
   ],
   "source": [
    "mn_counties_sedf.spatial.project(SpatialReference(4326))"
   ]
  },
  {
   "cell_type": "markdown",
   "metadata": {},
   "source": [
    "Load data from ArcGIS Server"
   ]
  },
  {
   "cell_type": "code",
   "execution_count": 35,
   "metadata": {},
   "outputs": [],
   "source": [
    "#Data url\n",
    "esri_url = 'https://webgis.dot.state.mn.us/65agsf1/rest/services/sdw_trans/AIRPORT/FeatureServer/0/query?where=1=1&f=geojson'"
   ]
  },
  {
   "cell_type": "code",
   "execution_count": 36,
   "metadata": {},
   "outputs": [],
   "source": [
    "#Use ArcGIS REST API to call data\n",
    "esri_response = requests.get(esri_url)"
   ]
  },
  {
   "cell_type": "code",
   "execution_count": 37,
   "metadata": {},
   "outputs": [],
   "source": [
    "#Read the geojson file\n",
    "airports = pandas.json_normalize(esri_response.json()['features'])"
   ]
  },
  {
   "cell_type": "code",
   "execution_count": 14,
   "metadata": {},
   "outputs": [],
   "source": [
    "#Create new columns for latitude and longitude\n",
    "airports['Longitude'] = airports['geometry.coordinates'].apply(lambda x: x[0])\n",
    "airports['Latitude'] = airports['geometry.coordinates'].apply(lambda x: x[1])"
   ]
  },
  {
   "cell_type": "code",
   "execution_count": 15,
   "metadata": {},
   "outputs": [],
   "source": [
    "#Convert data to a sedf\n",
    "airports_sedf = GeoAccessor.from_xy(airports, x_column = 'Longitude', y_column = 'Latitude', sr = 4326)"
   ]
  },
  {
   "cell_type": "markdown",
   "metadata": {},
   "source": [
    "Load data from NDAWN"
   ]
  },
  {
   "cell_type": "code",
   "execution_count": 16,
   "metadata": {},
   "outputs": [],
   "source": [
    "#Data url. This can be copied from the NDAWN website, but \"get-table.html\" must be changed to \"table.csv\"\n",
    "ndawn_url = 'https://ndawn.ndsu.nodak.edu/table.csv?station=78&station=111&station=98&station=162&station=174&station=142&station=164&station=138&station=161&station=9&station=160&station=224&station=159&station=10&station=118&station=56&station=165&station=11&station=12&station=58&station=13&station=84&station=218&station=55&station=179&station=7&station=186&station=87&station=14&station=15&station=96&station=191&station=16&station=210&station=201&station=137&station=124&station=143&station=17&station=85&station=226&station=140&station=134&station=18&station=136&station=219&station=65&station=104&station=99&station=192&station=19&station=227&station=129&station=20&station=101&station=166&station=178&station=81&station=21&station=97&station=22&station=75&station=184&station=2&station=211&station=172&station=139&station=158&station=23&station=157&station=220&station=62&station=86&station=24&station=89&station=126&station=223&station=167&station=93&station=183&station=90&station=25&station=205&station=83&station=107&station=156&station=77&station=26&station=155&station=70&station=127&station=144&station=27&station=173&station=132&station=28&station=195&station=185&station=29&station=30&station=154&station=31&station=187&station=102&station=32&station=119&station=4&station=217&station=80&station=33&station=59&station=153&station=105&station=82&station=225&station=34&station=198&station=72&station=135&station=35&station=76&station=120&station=209&station=141&station=109&station=36&station=207&station=79&station=193&station=71&station=212&station=37&station=38&station=189&station=39&station=130&station=73&station=188&station=40&station=41&station=54&station=69&station=194&station=145&station=214&station=113&station=128&station=42&station=43&station=103&station=171&station=116&station=196&station=88&station=114&station=3&station=163&station=200&station=216&station=64&station=115&station=168&station=67&station=175&station=146&station=170&station=197&station=44&station=206&station=133&station=106&station=100&station=121&station=45&station=46&station=61&station=66&station=181&station=74&station=213&station=60&station=199&station=125&station=176&station=177&station=8&station=180&station=204&station=47&station=221&station=122&station=108&station=5&station=152&station=48&station=151&station=147&station=68&station=169&station=49&station=50&station=91&station=182&station=117&station=63&station=150&station=51&station=6&station=222&station=52&station=92&station=112&station=131&station=123&station=95&station=53&station=203&station=190&station=208&station=57&station=149&station=148&station=202&station=215&station=110&variable=ddmxt&year=2024&ttype=daily&quick_pick=&begin_date=2024-10-02&end_date=2024-10-02'"
   ]
  },
  {
   "cell_type": "code",
   "execution_count": 17,
   "metadata": {},
   "outputs": [],
   "source": [
    "#read the .csv file using pandas. With indices starting at 0, data begins in row 5, with headers in row 3\n",
    "#skipping rows 0, 1, 2, and 4 allows the data to be read correctly\n",
    "nodak_weather = pandas.read_csv(ndawn_url, skiprows = [0,1,2,4])"
   ]
  },
  {
   "cell_type": "code",
   "execution_count": 18,
   "metadata": {},
   "outputs": [],
   "source": [
    "#Convert data to a sedf\n",
    "nodak_weather_sedf = GeoAccessor.from_xy(nodak_weather, x_column = 'Longitude', y_column = 'Latitude', sr = 4326)"
   ]
  },
  {
   "cell_type": "markdown",
   "metadata": {},
   "source": [
    "Spatially join airports (from ArcGIS) and counties (from Minnesota Geospatial Commons)"
   ]
  },
  {
   "cell_type": "code",
   "execution_count": 19,
   "metadata": {},
   "outputs": [],
   "source": [
    "#Spatially join data. Add county information to each airport\n",
    "joined_data = airports_sedf.spatial.join(mn_counties_sedf, how = 'left', op = 'within')"
   ]
  },
  {
   "cell_type": "code",
   "execution_count": 20,
   "metadata": {},
   "outputs": [],
   "source": [
    "#Remove extra columns that have geometry information\n",
    "joined_data = joined_data.drop(columns = ['Shape_Leng', 'Shape_Area', 'geometry.coordinates'])"
   ]
  },
  {
   "cell_type": "code",
   "execution_count": 21,
   "metadata": {},
   "outputs": [
    {
     "data": {
      "text/html": [
       "<div>\n",
       "<style scoped>\n",
       "    .dataframe tbody tr th:only-of-type {\n",
       "        vertical-align: middle;\n",
       "    }\n",
       "\n",
       "    .dataframe tbody tr th {\n",
       "        vertical-align: top;\n",
       "    }\n",
       "\n",
       "    .dataframe thead th {\n",
       "        text-align: right;\n",
       "    }\n",
       "</style>\n",
       "<table border=\"1\" class=\"dataframe\">\n",
       "  <thead>\n",
       "    <tr style=\"text-align: right;\">\n",
       "      <th></th>\n",
       "      <th>type</th>\n",
       "      <th>geometry.type</th>\n",
       "      <th>properties.FACILITYNAME</th>\n",
       "      <th>Longitude</th>\n",
       "      <th>Latitude</th>\n",
       "      <th>SHAPE</th>\n",
       "      <th>index_right</th>\n",
       "      <th>FID</th>\n",
       "      <th>COUNTYFIPS</th>\n",
       "      <th>COUNTYNAME</th>\n",
       "    </tr>\n",
       "  </thead>\n",
       "  <tbody>\n",
       "    <tr>\n",
       "      <th>0</th>\n",
       "      <td>Feature</td>\n",
       "      <td>Point</td>\n",
       "      <td>FERGUS FALLS MUNI-EINAR MICKELSON FLD</td>\n",
       "      <td>-96.156703</td>\n",
       "      <td>46.284397</td>\n",
       "      <td>{\"spatialReference\": {\"wkid\": 4326}, \"x\": -96....</td>\n",
       "      <td>55.0</td>\n",
       "      <td>55</td>\n",
       "      <td>111</td>\n",
       "      <td>Otter Tail</td>\n",
       "    </tr>\n",
       "    <tr>\n",
       "      <th>1</th>\n",
       "      <td>Feature</td>\n",
       "      <td>Point</td>\n",
       "      <td>FERTILE MUNI</td>\n",
       "      <td>-96.292203</td>\n",
       "      <td>47.551925</td>\n",
       "      <td>{\"spatialReference\": {\"wkid\": 4326}, \"x\": -96....</td>\n",
       "      <td>59.0</td>\n",
       "      <td>59</td>\n",
       "      <td>119</td>\n",
       "      <td>Polk</td>\n",
       "    </tr>\n",
       "    <tr>\n",
       "      <th>2</th>\n",
       "      <td>Feature</td>\n",
       "      <td>Point</td>\n",
       "      <td>NORMAN COUNTY ADA/TWIN VALLEY</td>\n",
       "      <td>-96.400273</td>\n",
       "      <td>47.260476</td>\n",
       "      <td>{\"spatialReference\": {\"wkid\": 4326}, \"x\": -96....</td>\n",
       "      <td>53.0</td>\n",
       "      <td>53</td>\n",
       "      <td>107</td>\n",
       "      <td>Norman</td>\n",
       "    </tr>\n",
       "    <tr>\n",
       "      <th>3</th>\n",
       "      <td>Feature</td>\n",
       "      <td>Point</td>\n",
       "      <td>WALKER FIELD</td>\n",
       "      <td>-92.812530</td>\n",
       "      <td>44.931114</td>\n",
       "      <td>{\"spatialReference\": {\"wkid\": 4326}, \"x\": -92....</td>\n",
       "      <td>81.0</td>\n",
       "      <td>81</td>\n",
       "      <td>163</td>\n",
       "      <td>Washington</td>\n",
       "    </tr>\n",
       "    <tr>\n",
       "      <th>4</th>\n",
       "      <td>Feature</td>\n",
       "      <td>Point</td>\n",
       "      <td>AITKIN MUNI-STEVE KURTZ FIELD</td>\n",
       "      <td>-93.676640</td>\n",
       "      <td>46.548470</td>\n",
       "      <td>{\"spatialReference\": {\"wkid\": 4326}, \"x\": -93....</td>\n",
       "      <td>0.0</td>\n",
       "      <td>0</td>\n",
       "      <td>001</td>\n",
       "      <td>Aitkin</td>\n",
       "    </tr>\n",
       "  </tbody>\n",
       "</table>\n",
       "</div>"
      ],
      "text/plain": [
       "      type geometry.type  ... COUNTYFIPS  COUNTYNAME\n",
       "0  Feature         Point  ...        111  Otter Tail\n",
       "1  Feature         Point  ...        119        Polk\n",
       "2  Feature         Point  ...        107      Norman\n",
       "3  Feature         Point  ...        163  Washington\n",
       "4  Feature         Point  ...        001      Aitkin\n",
       "\n",
       "[5 rows x 10 columns]"
      ]
     },
     "execution_count": 21,
     "metadata": {},
     "output_type": "execute_result"
    }
   ],
   "source": [
    "#View the data\n",
    "joined_data.head()"
   ]
  },
  {
   "cell_type": "markdown",
   "metadata": {},
   "source": [
    "Save data to a Geodatabase"
   ]
  },
  {
   "cell_type": "code",
   "execution_count": 22,
   "metadata": {},
   "outputs": [
    {
     "data": {
      "text/html": [
       "<div class='gpresult'><h2>Messages</h2><div id='messages' data-messages='[\"Start Time: Tuesday, October 8, 2024 7:38:14 PM\",\"Succeeded at Tuesday, October 8, 2024 7:38:15 PM (Elapsed Time: 0.42 seconds)\"]' data-show='true'><div id = 'default' /></div></div>"
      ],
      "text/plain": [
       "<Result 'C:/Users/tjjoh/Documents/GIS5571/Lab1_GDB.gdb'>"
      ]
     },
     "execution_count": 22,
     "metadata": {},
     "output_type": "execute_result"
    }
   ],
   "source": [
    "#Create a file geodatabase\n",
    "arcpy.management.CreateFileGDB(\n",
    "    out_folder_path=r\"C:/Users/tjjoh/Documents/GIS5571\",\n",
    "    out_name=\"Lab1_GDB\",\n",
    "    out_version=\"CURRENT\"\n",
    ")"
   ]
  },
  {
   "cell_type": "code",
   "execution_count": 23,
   "metadata": {},
   "outputs": [],
   "source": [
    "#Specify the path to the geodatabase\n",
    "gdb_path = r'C:/Users/tjjoh/Documents/GIS5571/Lab1_GDB.gdb'"
   ]
  },
  {
   "cell_type": "code",
   "execution_count": 24,
   "metadata": {},
   "outputs": [
    {
     "data": {
      "text/plain": [
       "'C:\\\\Users\\\\tjjoh\\\\Documents\\\\GIS5571\\\\Lab1_GDB.gdb\\\\NoDak_Weather'"
      ]
     },
     "execution_count": 24,
     "metadata": {},
     "output_type": "execute_result"
    }
   ],
   "source": [
    "#Send data to the geodatabase as feature classes\n",
    "joined_data.spatial.to_featureclass(location = gdb_path + r'/Airport_County_Join')\n",
    "nodak_weather_sedf.spatial.to_featureclass(location = gdb_path + r'/NoDak_Weather')"
   ]
  },
  {
   "cell_type": "code",
   "execution_count": null,
   "metadata": {},
   "outputs": [],
   "source": []
  }
 ],
 "metadata": {
  "kernelspec": {
   "display_name": "ArcGISPro",
   "language": "Python",
   "name": "python3"
  },
  "language_info": {
   "file_extension": ".py",
   "name": "python",
   "version": "3"
  }
 },
 "nbformat": 4,
 "nbformat_minor": 2
}
