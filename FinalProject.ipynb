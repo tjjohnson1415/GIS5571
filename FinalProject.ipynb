{
 "cells": [
  {
   "cell_type": "code",
   "execution_count": 50,
   "metadata": {},
   "outputs": [],
   "source": [
    "import requests\n",
    "import pandas\n",
    "import numpy\n",
    "from arcgis.features import GeoAccessor\n",
    "from arcpy.sa import *\n",
    "import arcpy"
   ]
  },
  {
   "cell_type": "code",
   "execution_count": 51,
   "metadata": {},
   "outputs": [],
   "source": [
    "hour = 12 #Hour to retrieve weather data for, in 24 hour time. Midnight uses a value of 24 for the previous day.\n",
    "\n",
    "#Date\n",
    "year = 2024\n",
    "month = 3\n",
    "day = 25"
   ]
  },
  {
   "cell_type": "code",
   "execution_count": 52,
   "metadata": {},
   "outputs": [],
   "source": [
    "#File paths\n",
    "stem_path = r'C:/Users/tjjoh/Documents/GIS5571'\n",
    "\n",
    "gdb_path = stem_path + r'/FinalProject_GDB.gdb'\n",
    "temp_fc_path = gdb_path + r'/temp'\n",
    "humid_fc_path = gdb_path + r'/humid'\n",
    "pres_fc_path = gdb_path + r'/pres'\n",
    "wind_fc_path = gdb_path + r'/wind'\n",
    "\n",
    "idw1_temp_path = gdb_path + r'/temp_IDW1'\n",
    "idw2_temp_path = gdb_path + r'/temp_IDW2'\n",
    "nn_temp_path = gdb_path + r'/temp_nn'\n",
    "spline_temp_path = gdb_path + r'/temp_spline'\n",
    "kriging_temp_path = gdb_path + r'/temp_kriging'\n",
    "\n",
    "idw1_humid_path = gdb_path + r'/humid_IDW1'\n",
    "idw2_humid_path = gdb_path + r'/humid_IDW2'\n",
    "nn_humid_path = gdb_path + r'/humid_nn'\n",
    "spline_humid_path = gdb_path + r'/humid_spline'\n",
    "kriging_humid_path = gdb_path + r'/humid_kriging'\n",
    "\n",
    "idw1_pres_path = gdb_path + r'/pres_IDW1'\n",
    "idw2_pres_path = gdb_path + r'/pres_IDW2'\n",
    "nn_pres_path = gdb_path + r'/pres_nn'\n",
    "spline_pres_path = gdb_path + r'/pres_spline'\n",
    "kriging_pres_path = gdb_path + r'/pres_kriging'\n",
    "\n",
    "idw1_windN_path = gdb_path + r'/windN_IDW1'\n",
    "idw2_windN_path = gdb_path + r'/windN_IDW2'\n",
    "nn_windN_path = gdb_path + r'/windN_nn'\n",
    "spline_windN_path = gdb_path + r'/windN_spline'\n",
    "kriging_windN_path = gdb_path + r'/windN_kriging'\n",
    "\n",
    "idw1_windE_path = gdb_path + r'/windE_IDW1'\n",
    "idw2_windE_path = gdb_path + r'/windE_IDW2'\n",
    "nn_windE_path = gdb_path + r'/windE_nn'\n",
    "spline_windE_path = gdb_path + r'/windE_spline'\n",
    "kriging_windE_path = gdb_path + r'/windE_kriging'\n",
    "\n",
    "idw1_wind_path = gdb_path + r'/wind_IDW1'\n",
    "idw2_wind_path = gdb_path + r'/wind_IDW2'\n",
    "nn_wind_path = gdb_path + r'/wind_nn'\n",
    "spline_wind_path = gdb_path + r'/wind_spline'\n",
    "kriging_wind_path = gdb_path + r'/wind_kriging'\n",
    "\n",
    "idw1_winddir_path = gdb_path + r'/winddir_IDW1'\n",
    "idw2_winddir_path = gdb_path + r'/winddir_IDW2'\n",
    "nn_winddir_path = gdb_path + r'/winddir_nn'\n",
    "spline_winddir_path = gdb_path + r'/winddir_spline'\n",
    "kriging_winddir_path = gdb_path + r'/winddir_kriging'"
   ]
  },
  {
   "cell_type": "code",
   "execution_count": 53,
   "metadata": {},
   "outputs": [],
   "source": [
    "utc = str((hour + 5) % 24).zfill(2) #Convert time to UTC. This is valid only during daylight savings time\n",
    "\n",
    "#Convert date and time to strings\n",
    "yr = str(year)\n",
    "mn = str(month).zfill(2)\n",
    "dy_ndawn = str(day).zfill(2)\n",
    "if hour < 19:\n",
    "    dy_noaa = str(day).zfill(2)\n",
    "else:\n",
    "    dy_noaa = str(day + 1).zfill(2)\n",
    "hr = str(hour).zfill(2)\n",
    "\n",
    "#URLs for API calls\n",
    "noaa_url = r'https://api.synopticlabs.org/v2/stations/nearesttime?token=d8c6aee36a994f90857925cea26934be&bbox=-105%2C42%2C-86.5%2C49.5&minmax=1&minmaxtype=local&units=temp%7Cf%2Cspeed%7Cmph&attime=' + yr + mn + dy_noaa + utc + '00&within=90&status=active&qc_checks=all'\n",
    "ndawn_url = 'https://ndawn.ndsu.nodak.edu/table.csv?station>0&variable=hdt&variable=hdbp&variable=hdrh&variable=hdws&variable=hdwd&ttype=hourly&quick_pick=&begin_date=' + yr + '-' + mn + '-' + dy_ndawn + '&end_date=' + yr + '-' + mn + '-' + dy_ndawn"
   ]
  },
  {
   "cell_type": "markdown",
   "metadata": {},
   "source": [
    "**Prepare NOAA Data**"
   ]
  },
  {
   "cell_type": "code",
   "execution_count": 54,
   "metadata": {},
   "outputs": [],
   "source": [
    "#Make API request\n",
    "noaa_response = requests.get(noaa_url)"
   ]
  },
  {
   "cell_type": "code",
   "execution_count": 55,
   "metadata": {},
   "outputs": [],
   "source": [
    "#Convert NOAA data to dataframe\n",
    "noaa_df = pandas.json_normalize(noaa_response.json()['STATION'])"
   ]
  },
  {
   "cell_type": "code",
   "execution_count": 56,
   "metadata": {},
   "outputs": [],
   "source": [
    "#Rename columns\n",
    "noaa_df = noaa_df.rename(columns = {'OBSERVATIONS.air_temp_value_1.value' : 'Temperature',\n",
    "                                    'OBSERVATIONS.relative_humidity_value_1.value' : 'Humidity',\n",
    "                                    'OBSERVATIONS.wind_speed_value_1.value' : 'WindSpeed',\n",
    "                                    'OBSERVATIONS.wind_direction_value_1.value' : 'WindDirection',\n",
    "                                    'OBSERVATIONS.altimeter_value_1.value' : 'Pressure',\n",
    "                                    'NAME' : 'Name',\n",
    "                                    'ELEVATION' : 'Elevation',\n",
    "                                    'LATITUDE' : 'Latitude',\n",
    "                                    'LONGITUDE' : 'Longitude',\n",
    "                                    'STATE' : 'State',\n",
    "                                    'TIMEZONE' : 'Timezone'\n",
    "                                   })"
   ]
  },
  {
   "cell_type": "code",
   "execution_count": 57,
   "metadata": {},
   "outputs": [],
   "source": [
    "#Keep only desired columns\n",
    "noaa_df = noaa_df[['ID','Name','Elevation','Latitude','Longitude','State','Timezone',\n",
    "                   'Temperature','Humidity','WindSpeed','WindDirection','Pressure'\n",
    "                  ]]"
   ]
  },
  {
   "cell_type": "code",
   "execution_count": 58,
   "metadata": {},
   "outputs": [],
   "source": [
    "#Convert pressure units to mbar, the same units that NDAWN uses\n",
    "noaa_df['Pressure'] = noaa_df['Pressure'] / 100"
   ]
  },
  {
   "cell_type": "markdown",
   "metadata": {},
   "source": [
    "**Prepare NDAWN Data**"
   ]
  },
  {
   "cell_type": "code",
   "execution_count": 59,
   "metadata": {},
   "outputs": [],
   "source": [
    "#Read data into a pandas dataframe\n",
    "ndawn_df = pandas.read_csv(ndawn_url, skiprows = [0,1,2,4])"
   ]
  },
  {
   "cell_type": "code",
   "execution_count": 60,
   "metadata": {},
   "outputs": [],
   "source": [
    "#Choose only the specified hour\n",
    "ndawn_df = ndawn_df[ndawn_df['Hour'] == hour * 100]"
   ]
  },
  {
   "cell_type": "code",
   "execution_count": 61,
   "metadata": {},
   "outputs": [],
   "source": [
    "#Rename columns\n",
    "ndawn_df = ndawn_df.rename(columns = {'Station Name' : 'Name',\n",
    "                                      'Avg Air Temp' : 'Temperature',\n",
    "                                      'Avg Baro Press' : 'Pressure',\n",
    "                                      'Avg Rel Hum' : 'Humidity',\n",
    "                                      'Avg Wind Speed' : 'WindSpeed',\n",
    "                                      'Avg Wind Dir' : 'WindDirection'\n",
    "                                     })"
   ]
  },
  {
   "cell_type": "code",
   "execution_count": 62,
   "metadata": {},
   "outputs": [],
   "source": [
    "#Keep only desired columns\n",
    "ndawn_df = ndawn_df[['Name','Elevation','Latitude','Longitude',\n",
    "                     'Temperature','Humidity','WindSpeed','WindDirection','Pressure'\n",
    "                    ]]"
   ]
  },
  {
   "cell_type": "markdown",
   "metadata": {},
   "source": [
    "**Combine Data Frames**"
   ]
  },
  {
   "cell_type": "code",
   "execution_count": 63,
   "metadata": {},
   "outputs": [],
   "source": [
    "#Concatenate data frames\n",
    "weather_df = pandas.concat([noaa_df, ndawn_df], ignore_index = True)"
   ]
  },
  {
   "cell_type": "code",
   "execution_count": 64,
   "metadata": {},
   "outputs": [],
   "source": [
    "#Convert to a spatially-enabled dataframe\n",
    "weather_sedf = GeoAccessor.from_xy(weather_df, x_column = 'Longitude', y_column = 'Latitude', sr = 4326)"
   ]
  },
  {
   "cell_type": "code",
   "execution_count": 65,
   "metadata": {},
   "outputs": [],
   "source": [
    "#Calculate z-scores for weather quantities\n",
    "weather_sedf['Temp_z'] = abs((weather_sedf['Temperature'] - weather_sedf['Temperature'].mean()) / weather_sedf['Temperature'].std())\n",
    "weather_sedf['Humid_z'] = abs((weather_sedf['Humidity'] - weather_sedf['Humidity'].mean()) / weather_sedf['Humidity'].std())\n",
    "weather_sedf['Pres_z'] = abs((weather_sedf['Pressure'] - weather_sedf['Pressure'].mean()) / weather_sedf['Pressure'].std())\n",
    "weather_sedf['Wind_z'] = abs((weather_sedf['WindSpeed'] - weather_sedf['WindSpeed'].mean()) / weather_sedf['WindSpeed'].std())"
   ]
  },
  {
   "cell_type": "code",
   "execution_count": 66,
   "metadata": {},
   "outputs": [],
   "source": [
    "#Remove instances with high z-score because they are likely inaccurate\n",
    "temp_sedf = weather_sedf[weather_sedf['Temp_z'] < 3]\n",
    "humid_sedf = weather_sedf[weather_sedf['Humid_z'] < 3]\n",
    "pres_sedf = weather_sedf[weather_sedf['Pres_z'] < 3]\n",
    "wind_sedf = weather_sedf[weather_sedf['Wind_z'] < 3]"
   ]
  },
  {
   "cell_type": "code",
   "execution_count": 67,
   "metadata": {},
   "outputs": [],
   "source": [
    "#Deconstruct wind into North and East components\n",
    "wind_sedf = wind_sedf[wind_sedf['WindDirection'].notna()]\n",
    "\n",
    "wind_sedf['Wind_N'] = wind_sedf['WindSpeed'] * numpy.cos(numpy.radians(wind_sedf['WindDirection']))\n",
    "wind_sedf['Wind_E'] = wind_sedf['WindSpeed'] * numpy.sin(numpy.radians(wind_sedf['WindDirection']))"
   ]
  },
  {
   "cell_type": "code",
   "execution_count": 68,
   "metadata": {},
   "outputs": [],
   "source": [
    "#Convert spatially enabled dataframes to feature classes\n",
    "temp_fc = temp_sedf.spatial.to_featureclass(location = temp_fc_path)\n",
    "humid_fc = humid_sedf.spatial.to_featureclass(location = humid_fc_path)\n",
    "pres_fc = pres_sedf.spatial.to_featureclass(location = pres_fc_path)\n",
    "wind_fc = wind_sedf.spatial.to_featureclass(location = wind_fc_path)"
   ]
  },
  {
   "cell_type": "markdown",
   "metadata": {},
   "source": [
    "**Interpolation**"
   ]
  },
  {
   "cell_type": "code",
   "execution_count": 70,
   "metadata": {},
   "outputs": [],
   "source": [
    "#create lists of variables we want to interpolate, interpolation methods, and file paths for easier indexing\n",
    "quantities = ['Temperature','Humidity','Pressure','Wind_N','Wind_E']\n",
    "methods = ['IDW1', 'IDW2', 'NN', 'Spline', 'Kriging']\n",
    "input_paths = [temp_fc_path, humid_fc_path, pres_fc_path, wind_fc_path, wind_fc_path]\n",
    "\n",
    "output_paths_idw1 = [idw1_temp_path, idw1_humid_path, idw1_pres_path, idw1_windN_path, idw1_windE_path, idw1_wind_path, idw1_winddir_path]\n",
    "output_paths_idw2 = [idw2_temp_path, idw2_humid_path, idw2_pres_path, idw2_windN_path, idw2_windE_path, idw2_wind_path, idw2_winddir_path]\n",
    "output_paths_nn = [nn_temp_path, nn_humid_path, nn_pres_path, nn_windN_path, nn_windE_path, nn_wind_path, nn_winddir_path]\n",
    "output_paths_spline = [spline_temp_path, spline_humid_path, spline_pres_path, spline_windN_path, spline_windE_path, spline_wind_path, spline_winddir_path]\n",
    "output_paths_kriging = [kriging_temp_path, kriging_humid_path, kriging_pres_path, kriging_windN_path, kriging_windE_path, kriging_wind_path, kriging_winddir_path]\n",
    "\n",
    "output_paths = [output_paths_idw1, output_paths_idw2, output_paths_nn, output_paths_spline, output_paths_kriging]"
   ]
  },
  {
   "cell_type": "code",
   "execution_count": 71,
   "metadata": {
    "scrolled": true
   },
   "outputs": [
    {
     "name": "stdout",
     "output_type": "stream",
     "text": [
      "Temperature IDW1 complete\n",
      "Temperature IDW2 complete\n",
      "Temperature NN complete\n",
      "Temperature Spline complete\n",
      "Temperature Kriging complete\n",
      "Humidity IDW1 complete\n",
      "Humidity IDW2 complete\n",
      "Humidity NN complete\n",
      "Humidity Spline complete\n",
      "Humidity Kriging complete\n",
      "Pressure IDW1 complete\n",
      "Pressure IDW2 complete\n",
      "Pressure NN complete\n",
      "Pressure Spline complete\n",
      "Pressure Kriging complete\n",
      "Wind_N IDW1 complete\n",
      "Wind_N IDW2 complete\n",
      "Wind_N NN complete\n",
      "Wind_N Spline complete\n",
      "Wind_N Kriging complete\n",
      "Wind_E IDW1 complete\n",
      "Wind_E IDW2 complete\n",
      "Wind_E NN complete\n",
      "Wind_E Spline complete\n",
      "Wind_E Kriging complete\n"
     ]
    }
   ],
   "source": [
    "#Iterate over weather variables that we want to interpolate\n",
    "for i in range(len(quantities)):\n",
    "    #First Order IDW\n",
    "    with arcpy.EnvManager(scratchWorkspace = gdb_path):\n",
    "        IDW1 = arcpy.sa.Idw(\n",
    "            in_point_features = input_paths[i],\n",
    "            z_field = quantities[i],\n",
    "            cell_size = 0.021010908,\n",
    "            power = 1,\n",
    "            search_radius = 'VARIABLE 12',\n",
    "            in_barrier_polyline_features = None\n",
    "        )\n",
    "        IDW1.save(output_paths[0][i] + '_' + hr)\n",
    "    print(f'{quantities[i]} {methods[0]} complete')\n",
    "    \n",
    "    #Second Order IDW\n",
    "    with arcpy.EnvManager(scratchWorkspace = gdb_path):\n",
    "        IDW2 = arcpy.sa.Idw(\n",
    "            in_point_features = input_paths[i],\n",
    "            z_field = quantities[i],\n",
    "            cell_size = 0.021010908,\n",
    "            power = 2,\n",
    "            search_radius = 'VARIABLE 12',\n",
    "            in_barrier_polyline_features = None\n",
    "        )\n",
    "        IDW2.save(output_paths[1][i] + '_' + hr)\n",
    "    print(f'{quantities[i]} {methods[1]} complete')\n",
    "    \n",
    "    #Natural neighbor\n",
    "    with arcpy.EnvManager(scratchWorkspace = gdb_path):\n",
    "        NN = arcpy.sa.NaturalNeighbor(\n",
    "            in_point_features = input_paths[i],\n",
    "            z_field = quantities[i],\n",
    "            cell_size = 0.021010908\n",
    "        )\n",
    "        NN.save(output_paths[2][i] + '_' + hr)\n",
    "    print(f'{quantities[i]} {methods[2]} complete')\n",
    "    \n",
    "    #Spline interpolation\n",
    "    with arcpy.EnvManager(scratchWorkspace = gdb_path):\n",
    "        Spline = arcpy.sa.Spline(\n",
    "            in_point_features = input_paths[i],\n",
    "            z_field = quantities[i],\n",
    "            cell_size = 0.021010908,\n",
    "            spline_type = 'REGULARIZED',\n",
    "            weight = 0.1,\n",
    "            number_points = 12\n",
    "        )\n",
    "        Spline.save(output_paths[3][i] + '_' + hr)\n",
    "    print(f'{quantities[i]} {methods[3]} complete')\n",
    "    \n",
    "    #Kriging\n",
    "    with arcpy.EnvManager(scratchWorkspace = gdb_path):\n",
    "        Krig = arcpy.sa.Kriging(\n",
    "            in_point_features = input_paths[i],\n",
    "            z_field = quantities[i],\n",
    "            kriging_model = 'Spherical # # # #',\n",
    "            cell_size = 0.021010908,\n",
    "            search_radius = 'VARIABLE 12',\n",
    "            out_variance_prediction_raster = None\n",
    "        )\n",
    "        Krig.save(output_paths[4][i] + '_' + hr)\n",
    "    print(f'{quantities[i]} {methods[4]} complete')"
   ]
  },
  {
   "cell_type": "code",
   "execution_count": 72,
   "metadata": {
    "scrolled": true
   },
   "outputs": [
    {
     "name": "stdout",
     "output_type": "stream",
     "text": [
      "Wind Speed IDW1 complete\n",
      "Wind Direction IDW1 complete\n",
      "Wind Speed IDW2 complete\n",
      "Wind Direction IDW2 complete\n",
      "Wind Speed NN complete\n",
      "Wind Direction NN complete\n",
      "Wind Speed Spline complete\n",
      "Wind Direction Spline complete\n",
      "Wind Speed Kriging complete\n",
      "Wind Direction Kriging complete\n"
     ]
    }
   ],
   "source": [
    "for i in range(len(methods)):\n",
    "    #Assign north-south and east-west components of wind to a variable\n",
    "    NORTH = output_paths[i][3] + '_' + hr\n",
    "    EAST = output_paths[i][4] + '_' + hr\n",
    "    \n",
    "    #Calculate wind speed and save\n",
    "    WindSpeed = RasterCalculator(rasters = [NORTH, EAST],\n",
    "                                 input_names = ['N', 'E'],\n",
    "                                 expression = 'SquareRoot(Square(N) + Square(E)))'\n",
    "                                 )\n",
    "    WindSpeed.save(output_paths[i][5] + '_' + hr)\n",
    "    print(f'Wind Speed {methods[i]} complete')\n",
    "    \n",
    "    #Calculate wind direction and save\n",
    "    WindDirection = RasterCalculator(rasters = [NORTH, EAST],\n",
    "                                     input_names = ['N', 'E'],\n",
    "                                     expression = 'ATan2(E, N)'\n",
    "                                     )\n",
    "    WindDirection.save(output_paths[i][6] + '_' + hr)\n",
    "    print(f'Wind Direction {methods[i]} complete')"
   ]
  },
  {
   "cell_type": "code",
   "execution_count": null,
   "metadata": {},
   "outputs": [],
   "source": []
  }
 ],
 "metadata": {
  "kernelspec": {
   "display_name": "ArcGISPro",
   "language": "Python",
   "name": "python3"
  },
  "language_info": {
   "file_extension": ".py",
   "name": "python",
   "version": "3"
  }
 },
 "nbformat": 4,
 "nbformat_minor": 2
}
