{
 "cells": [
  {
   "cell_type": "code",
   "execution_count": 21,
   "metadata": {},
   "outputs": [],
   "source": [
    "project = arcpy.mp.ArcGISProject('CURRENT')"
   ]
  },
  {
   "cell_type": "code",
   "execution_count": 22,
   "metadata": {},
   "outputs": [],
   "source": [
    "map = project.listMaps(\"Map\")[0]\n",
    "baselayers = ['state_of_minnesota','Light Gray Reference','Light Gray Base']\n",
    "visiblelayers = ['state_of_minnesota','Light Gray Base']"
   ]
  },
  {
   "cell_type": "code",
   "execution_count": 23,
   "metadata": {},
   "outputs": [],
   "source": [
    "for layer in map.listLayers():\n",
    "    if layer.name not in baselayers:\n",
    "        arcpy.management.ApplySymbologyFromLayer(\n",
    "            in_layer=layer,\n",
    "            in_symbology_layer=r\"C:\\Users\\tjjoh\\Documents\\GIS5571\\GIS5571\\FinalProject\\winddir.lyrx\",\n",
    "            symbology_fields=None,\n",
    "            update_symbology=\"DEFAULT\"\n",
    "        )"
   ]
  },
  {
   "cell_type": "code",
   "execution_count": 24,
   "metadata": {},
   "outputs": [],
   "source": [
    "layout = project.listLayouts('Layout1')[0]\n",
    "map_frame = layout.listElements(\"MAPFRAME_ELEMENT\", \"Map Frame\")[0]\n",
    "map = map_frame.map"
   ]
  },
  {
   "cell_type": "code",
   "execution_count": 25,
   "metadata": {
    "scrolled": true
   },
   "outputs": [
    {
     "name": "stdout",
     "output_type": "stream",
     "text": [
      "File 1 complete\n",
      "File 2 complete\n",
      "File 3 complete\n",
      "File 4 complete\n",
      "File 5 complete\n",
      "File 6 complete\n",
      "File 7 complete\n",
      "File 8 complete\n",
      "File 9 complete\n",
      "File 10 complete\n",
      "File 11 complete\n",
      "File 12 complete\n",
      "File 13 complete\n",
      "File 14 complete\n",
      "File 15 complete\n",
      "File 16 complete\n",
      "File 17 complete\n",
      "File 18 complete\n",
      "File 19 complete\n",
      "File 20 complete\n",
      "File 21 complete\n",
      "File 22 complete\n",
      "File 23 complete\n",
      "File 24 complete\n"
     ]
    }
   ],
   "source": [
    "for i in range(24):\n",
    "    for layer in map.listLayers():\n",
    "        if layer.name in visiblelayers:\n",
    "            layer.visible = True\n",
    "        else:\n",
    "            layer.visible = False\n",
    "    \n",
    "    map.listLayers()[i + 2].visible = True\n",
    "    \n",
    "    index = str(24 - i).zfill(2)\n",
    "    layout.exportToJPEG(r'C:\\Users\\tjjoh\\Documents\\GIS5571\\GIS5571\\FinalProject\\Images\\WindDirection\\Spline\\WindDirSpline' + f'{index}' + '.jpg', resolution = 300)\n",
    "    \n",
    "    print(f'File {i + 1} complete')\n",
    " "
   ]
  },
  {
   "cell_type": "code",
   "execution_count": null,
   "metadata": {},
   "outputs": [],
   "source": []
  }
 ],
 "metadata": {
  "kernelspec": {
   "display_name": "ArcGISPro",
   "language": "Python",
   "name": "python3"
  },
  "language_info": {
   "file_extension": ".py",
   "name": "python",
   "version": "3"
  }
 },
 "nbformat": 4,
 "nbformat_minor": 2
}
