{
 "cells": [
  {
   "cell_type": "markdown",
   "metadata": {},
   "source": [
    "#Load road centerlines and define path for output."
   ]
  },
  {
   "cell_type": "code",
   "execution_count": 9,
   "metadata": {},
   "outputs": [],
   "source": [
    "RoadCenterlines = r\"C:\\Users\\tjjoh\\Downloads\\fgdb_trans_road_centerlines\\road_centerlines.gdb\\road_centerlines\"\n",
    "BufferedRoads = r\"C:\\Users\\tjjoh\\Downloads\\fgdb_trans_road_centerlines\\road_centerlines.gdb\\BufferedRoads\""
   ]
  },
  {
   "cell_type": "markdown",
   "metadata": {},
   "source": [
    "#Run the Pairwise Buffer tool."
   ]
  },
  {
   "cell_type": "code",
   "execution_count": 11,
   "metadata": {},
   "outputs": [
    {
     "data": {
      "text/html": [
       "<div class='gpresult'><h2>Messages</h2><div id='messages' data-messages='[\"Start Time: Saturday, September 7, 2024 8:17:14 PM\",\"Succeeded at Saturday, September 7, 2024 8:17:15 PM (Elapsed Time: 0.87 seconds)\"]' data-show='true'><div id = 'default' /></div></div>"
      ],
      "text/plain": [
       "<Result 'C:\\\\Users\\\\tjjoh\\\\Downloads\\\\fgdb_trans_road_centerlines\\\\road_centerlines.gdb\\\\BufferedRoads'>"
      ]
     },
     "execution_count": 11,
     "metadata": {},
     "output_type": "execute_result"
    }
   ],
   "source": [
    "arcpy.analysis.PairwiseBuffer(\n",
    "    in_features = RoadCenterlines,\n",
    "    out_feature_class = BufferedRoads,\n",
    "    buffer_distance_or_field = \"1 MilesInt\",\n",
    "    dissolve_option = \"ALL\"\n",
    ")"
   ]
  }
 ],
 "metadata": {
  "kernelspec": {
   "display_name": "ArcGISPro",
   "language": "Python",
   "name": "python3"
  },
  "language_info": {
   "file_extension": ".py",
   "name": "python",
   "version": "3"
  }
 },
 "nbformat": 4,
 "nbformat_minor": 2
}
