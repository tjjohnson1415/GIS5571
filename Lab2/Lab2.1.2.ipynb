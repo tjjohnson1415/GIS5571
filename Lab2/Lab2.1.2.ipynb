{
 "cells": [
  {
   "cell_type": "code",
   "execution_count": 14,
   "metadata": {},
   "outputs": [],
   "source": [
    "import requests\n",
    "import zipfile\n",
    "from arcpy.sa import *\n",
    "import os"
   ]
  },
  {
   "cell_type": "code",
   "execution_count": 15,
   "metadata": {},
   "outputs": [
    {
     "ename": "FileExistsError",
     "evalue": "[WinError 183] Cannot create a file when that file already exists: 'C:/Users/tjjoh/Documents/GIS5571/PRISMdata'",
     "output_type": "error",
     "traceback": [
      "\u001b[0;31m---------------------------------------------------------------------------\u001b[0m\n\u001b[0;31mFileExistsError\u001b[0m                           Traceback (most recent call last)",
      "In  \u001b[0;34m[15]\u001b[0m:\nLine \u001b[0;34m2\u001b[0m:     os.mkdir(path)\u001b[37m\u001b[39;49;00m\n",
      "\u001b[0;31mFileExistsError\u001b[0m: [WinError 183] Cannot create a file when that file already exists: 'C:/Users/tjjoh/Documents/GIS5571/PRISMdata'\n\u001b[0;31m---------------------------------------------------------------------------\u001b[0m"
     ]
    }
   ],
   "source": [
    "#Create path for data\n",
    "path = 'C:/Users/tjjoh/Documents/GIS5571/PRISMdata'\n",
    "os.mkdir(path)"
   ]
  },
  {
   "cell_type": "code",
   "execution_count": 16,
   "metadata": {},
   "outputs": [],
   "source": [
    "#Create base directories for each month of the year\n",
    "months = ['01','02','03','04','05','06','07','08','09','10','11','12']\n",
    "url_base = 'https://services.nacse.org/prism/data/public/normals/4km/ppt/{}'\n",
    "zip_base = 'C:/Users/tjjoh/Documents/GIS5571/PRISMdata/{}.zip'\n",
    "file_base = 'C:/Users/tjjoh/Documents/GIS5571/PRISMdata/{}'"
   ]
  },
  {
   "cell_type": "code",
   "execution_count": 17,
   "metadata": {},
   "outputs": [],
   "source": [
    "#Make an API call to get data for each month and unzip the .bil files\n",
    "for month in months:\n",
    "    url = url_base.format(month)\n",
    "    response = requests.get(url)\n",
    "    \n",
    "    with open(zip_base.format(month), 'wb') as file:\n",
    "        file.write(response.content)\n",
    "        \n",
    "    with zipfile.ZipFile(zip_base.format(month), 'r') as zip_ref:\n",
    "        zip_ref.extractall(file_base.format(month))"
   ]
  },
  {
   "cell_type": "code",
   "execution_count": 18,
   "metadata": {},
   "outputs": [
    {
     "data": {
      "text/html": [
       "<div class='gpresult'><h2>Messages</h2><div id='messages' data-messages='[\"Start Time: Tuesday, October 29, 2024 8:25:12 PM\",\"Successfully converted: C:\\\\Users\\\\tjjoh\\\\Documents\\\\GIS5571\\\\PRISMdata\\\\01\\\\PRISM_tmax_30yr_normal_4kmM5_01_bil.bil To C:/Users/tjjoh/Documents/GIS5571/PRISMdata/tiffs\\\\PRISM_tmax_30yr_normal_4kmM5_01_bil_2.tif\",\"Successfully converted: C:\\\\Users\\\\tjjoh\\\\Documents\\\\GIS5571\\\\PRISMdata\\\\02\\\\PRISM_tmax_30yr_normal_4kmM5_02_bil.bil To C:/Users/tjjoh/Documents/GIS5571/PRISMdata/tiffs\\\\PRISM_tmax_30yr_normal_4kmM5_02_bil_2.tif\",\"Successfully converted: C:\\\\Users\\\\tjjoh\\\\Documents\\\\GIS5571\\\\PRISMdata\\\\03\\\\PRISM_tmax_30yr_normal_4kmM5_03_bil.bil To C:/Users/tjjoh/Documents/GIS5571/PRISMdata/tiffs\\\\PRISM_tmax_30yr_normal_4kmM5_03_bil_2.tif\",\"Successfully converted: C:\\\\Users\\\\tjjoh\\\\Documents\\\\GIS5571\\\\PRISMdata\\\\04\\\\PRISM_tmax_30yr_normal_4kmM5_04_bil.bil To C:/Users/tjjoh/Documents/GIS5571/PRISMdata/tiffs\\\\PRISM_tmax_30yr_normal_4kmM5_04_bil_2.tif\",\"Successfully converted: C:\\\\Users\\\\tjjoh\\\\Documents\\\\GIS5571\\\\PRISMdata\\\\05\\\\PRISM_tmax_30yr_normal_4kmM5_05_bil.bil To C:/Users/tjjoh/Documents/GIS5571/PRISMdata/tiffs\\\\PRISM_tmax_30yr_normal_4kmM5_05_bil_2.tif\",\"Successfully converted: C:\\\\Users\\\\tjjoh\\\\Documents\\\\GIS5571\\\\PRISMdata\\\\06\\\\PRISM_tmax_30yr_normal_4kmM5_06_bil.bil To C:/Users/tjjoh/Documents/GIS5571/PRISMdata/tiffs\\\\PRISM_tmax_30yr_normal_4kmM5_06_bil_2.tif\",\"Successfully converted: C:\\\\Users\\\\tjjoh\\\\Documents\\\\GIS5571\\\\PRISMdata\\\\07\\\\PRISM_tmax_30yr_normal_4kmM5_07_bil.bil To C:/Users/tjjoh/Documents/GIS5571/PRISMdata/tiffs\\\\PRISM_tmax_30yr_normal_4kmM5_07_bil_2.tif\",\"Successfully converted: C:\\\\Users\\\\tjjoh\\\\Documents\\\\GIS5571\\\\PRISMdata\\\\08\\\\PRISM_tmax_30yr_normal_4kmM5_08_bil.bil To C:/Users/tjjoh/Documents/GIS5571/PRISMdata/tiffs\\\\PRISM_tmax_30yr_normal_4kmM5_08_bil_2.tif\",\"Successfully converted: C:\\\\Users\\\\tjjoh\\\\Documents\\\\GIS5571\\\\PRISMdata\\\\09\\\\PRISM_tmax_30yr_normal_4kmM5_09_bil.bil To C:/Users/tjjoh/Documents/GIS5571/PRISMdata/tiffs\\\\PRISM_tmax_30yr_normal_4kmM5_09_bil_2.tif\",\"Successfully converted: C:\\\\Users\\\\tjjoh\\\\Documents\\\\GIS5571\\\\PRISMdata\\\\10\\\\PRISM_tmax_30yr_normal_4kmM5_10_bil.bil To C:/Users/tjjoh/Documents/GIS5571/PRISMdata/tiffs\\\\PRISM_tmax_30yr_normal_4kmM5_10_bil_2.tif\",\"Successfully converted: C:\\\\Users\\\\tjjoh\\\\Documents\\\\GIS5571\\\\PRISMdata\\\\11\\\\PRISM_tmax_30yr_normal_4kmM5_11_bil.bil To C:/Users/tjjoh/Documents/GIS5571/PRISMdata/tiffs\\\\PRISM_tmax_30yr_normal_4kmM5_11_bil_2.tif\",\"Successfully converted: C:\\\\Users\\\\tjjoh\\\\Documents\\\\GIS5571\\\\PRISMdata\\\\12\\\\PRISM_tmax_30yr_normal_4kmM5_12_bil.bil To C:/Users/tjjoh/Documents/GIS5571/PRISMdata/tiffs\\\\PRISM_tmax_30yr_normal_4kmM5_12_bil_2.tif\",\"Succeeded at Tuesday, October 29, 2024 8:25:17 PM (Elapsed Time: 4.63 seconds)\"]' data-show='true'><div id = 'default' /></div></div>"
      ],
      "text/plain": [
       "<Result ''>"
      ]
     },
     "execution_count": 18,
     "metadata": {},
     "output_type": "execute_result"
    }
   ],
   "source": [
    "#Convert .bil files to TIFF\n",
    "arcpy.conversion.RasterToOtherFormat(\n",
    "    Input_Rasters=r\"C:\\Users\\tjjoh\\Documents\\GIS5571\\PRISMdata\\01\\PRISM_tmax_30yr_normal_4kmM5_01_bil.bil;C:\\Users\\tjjoh\\Documents\\GIS5571\\PRISMdata\\02\\PRISM_tmax_30yr_normal_4kmM5_02_bil.bil;C:\\Users\\tjjoh\\Documents\\GIS5571\\PRISMdata\\03\\PRISM_tmax_30yr_normal_4kmM5_03_bil.bil;C:\\Users\\tjjoh\\Documents\\GIS5571\\PRISMdata\\04\\PRISM_tmax_30yr_normal_4kmM5_04_bil.bil;C:\\Users\\tjjoh\\Documents\\GIS5571\\PRISMdata\\05\\PRISM_tmax_30yr_normal_4kmM5_05_bil.bil;C:\\Users\\tjjoh\\Documents\\GIS5571\\PRISMdata\\06\\PRISM_tmax_30yr_normal_4kmM5_06_bil.bil;C:\\Users\\tjjoh\\Documents\\GIS5571\\PRISMdata\\07\\PRISM_tmax_30yr_normal_4kmM5_07_bil.bil;C:\\Users\\tjjoh\\Documents\\GIS5571\\PRISMdata\\08\\PRISM_tmax_30yr_normal_4kmM5_08_bil.bil;C:\\Users\\tjjoh\\Documents\\GIS5571\\PRISMdata\\09\\PRISM_tmax_30yr_normal_4kmM5_09_bil.bil;C:\\Users\\tjjoh\\Documents\\GIS5571\\PRISMdata\\10\\PRISM_tmax_30yr_normal_4kmM5_10_bil.bil;C:\\Users\\tjjoh\\Documents\\GIS5571\\PRISMdata\\11\\PRISM_tmax_30yr_normal_4kmM5_11_bil.bil;C:\\Users\\tjjoh\\Documents\\GIS5571\\PRISMdata\\12\\PRISM_tmax_30yr_normal_4kmM5_12_bil.bil\",\n",
    "    Output_Workspace=\"C:/Users/tjjoh/Documents/GIS5571/PRISMdata/tiffs\",\n",
    "    Raster_Format=\"TIFF\"\n",
    ")"
   ]
  },
  {
   "cell_type": "code",
   "execution_count": 19,
   "metadata": {},
   "outputs": [
    {
     "data": {
      "text/html": [
       "<div class='gpresult'><h2>Messages</h2><div id='messages' data-messages='[\"Start Time: Tuesday, October 29, 2024 8:25:28 PM\",\"Succeeded at Tuesday, October 29, 2024 8:25:29 PM (Elapsed Time: 1.73 seconds)\"]' data-show='true'><div id = 'default' /></div></div>"
      ],
      "text/plain": [
       "<Result 'C:\\\\Users\\\\tjjoh\\\\Documents\\\\GIS5571\\\\Lab2_GDB.gdb\\\\Mosaic'>"
      ]
     },
     "execution_count": 19,
     "metadata": {},
     "output_type": "execute_result"
    }
   ],
   "source": [
    "#Create an empty mosaic dataset\n",
    "arcpy.management.CreateMosaicDataset(\n",
    "    in_workspace=r\"C:\\Users\\tjjoh\\Documents\\GIS5571\\Lab2_GDB.gdb\",\n",
    "    in_mosaicdataset_name=\"Mosaic\",\n",
    "    coordinate_system='GEOGCS[\"GCS_WGS_1984\",DATUM[\"D_WGS_1984\",SPHEROID[\"WGS_1984\",6378137.0,298.257223563]],PRIMEM[\"Greenwich\",0.0],UNIT[\"Degree\",0.0174532925199433]]',\n",
    "    num_bands=None,\n",
    "    pixel_type=\"\",\n",
    "    product_definition=\"NONE\",\n",
    "    product_band_definitions=None\n",
    ")"
   ]
  },
  {
   "cell_type": "code",
   "execution_count": 20,
   "metadata": {},
   "outputs": [
    {
     "data": {
      "text/html": [
       "<div class='gpresult'><h2>Messages</h2><div id='messages' data-messages='[\"Start Time: Tuesday, October 29, 2024 8:25:40 PM\",\"2024-10-29T20:25:40.782: Loading raster datasets\",\"2024-10-29T20:25:40.805: Completed crawling 36 data source items. Added 36 mosaic dataset items.\",\"2024-10-29T20:25:40.805: Synchronizing crawled data source items\",\"2024-10-29T20:25:40.809: Synchronizing items associated with raster type instance &#39;Raster Dataset&#39; [ID: 1].\",\"2024-10-29T20:25:41.033: Completed synchronization: 36 items selected, 36 items synchronized.\",\"2024-10-29T20:25:41.062: Computing cell size levels\",\"2024-10-29T20:25:41.062: Computing unique cell size values\",\"2024-10-29T20:25:41.115: Computing maximum cell size values\",\"2024-10-29T20:25:41.117: Computing minimum cell size values\",\"2024-10-29T20:25:41.117: Updating visibility values of selected items\",\"2024-10-29T20:25:41.126: Computing maximum cell size for mosaic dataset\",\"2024-10-29T20:25:41.129: Completed computing cell size ranges.\",\"2024-10-29T20:25:41.157: Completed building boundary.\",\"Succeeded at Tuesday, October 29, 2024 8:25:41 PM (Elapsed Time: 1.42 seconds)\"]' data-show='true'><div id = 'default' /></div></div>"
      ],
      "text/plain": [
       "<Result 'Mosaic'>"
      ]
     },
     "execution_count": 20,
     "metadata": {},
     "output_type": "execute_result"
    }
   ],
   "source": [
    "#Add the TIFFs to the mosaic dataset\n",
    "arcpy.management.AddRastersToMosaicDataset(\n",
    "    in_mosaic_dataset=\"Mosaic\",\n",
    "    raster_type=\"Raster Dataset\",\n",
    "    input_path=r\"C:\\Users\\tjjoh\\Documents\\GIS5571\\PRISMdata\\tiffs\",\n",
    "    update_cellsize_ranges=\"UPDATE_CELL_SIZES\",\n",
    "    update_boundary=\"UPDATE_BOUNDARY\",\n",
    "    update_overviews=\"NO_OVERVIEWS\",\n",
    "    maximum_pyramid_levels=None,\n",
    "    maximum_cell_size=0,\n",
    "    minimum_dimension=1500,\n",
    "    spatial_reference=None,\n",
    "    filter=\"\",\n",
    "    sub_folder=\"SUBFOLDERS\",\n",
    "    duplicate_items_action=\"ALLOW_DUPLICATES\",\n",
    "    build_pyramids=\"NO_PYRAMIDS\",\n",
    "    calculate_statistics=\"NO_STATISTICS\",\n",
    "    build_thumbnails=\"NO_THUMBNAILS\",\n",
    "    operation_description=\"\",\n",
    "    force_spatial_reference=\"NO_FORCE_SPATIAL_REFERENCE\",\n",
    "    estimate_statistics=\"NO_STATISTICS\",\n",
    "    aux_inputs=None,\n",
    "    enable_pixel_cache=\"NO_PIXEL_CACHE\",\n",
    "    cache_location=r\"C:\\Users\\tjjoh\\AppData\\Local\\ESRI\\rasterproxies\\Mosaic\"\n",
    ")"
   ]
  },
  {
   "cell_type": "code",
   "execution_count": 21,
   "metadata": {},
   "outputs": [
    {
     "data": {
      "text/html": [
       "<div class='gpresult'><h2>Messages</h2><div id='messages' data-messages='[\"Start Time: Tuesday, October 29, 2024 8:42:20 PM\",\"Adding Timestamp to AMD_Mosaic_CAT...\",\"Succeeded at Tuesday, October 29, 2024 8:42:20 PM (Elapsed Time: 0.34 seconds)\"]' data-show='true'><div id = 'default' /></div></div>"
      ],
      "text/plain": [
       "<Result 'Mosaic\\\\Footprint'>"
      ]
     },
     "execution_count": 21,
     "metadata": {},
     "output_type": "execute_result"
    }
   ],
   "source": [
    "#Add timestamp to mosaic dataset\n",
    "arcpy.management.CalculateField(\n",
    "    in_table=r\"Mosaic\\Footprint\",\n",
    "    field=\"Timestamp\",\n",
    "    expression=\"DateAdd(Date(1991,0,1), $feature.OBJECTID-1,'year')\",\n",
    "    expression_type=\"ARCADE\",\n",
    "    code_block=\"\",\n",
    "    field_type=\"DATE\",\n",
    "    enforce_domains=\"NO_ENFORCE_DOMAINS\"\n",
    ")"
   ]
  },
  {
   "cell_type": "code",
   "execution_count": 22,
   "metadata": {},
   "outputs": [
    {
     "data": {
      "text/html": [
       "<div class='gpresult'><h2>Messages</h2><div id='messages' data-messages='[\"Start Time: Tuesday, October 29, 2024 8:42:32 PM\",\"Adding Variable to AMD_Mosaic_CAT...\",\"Succeeded at Tuesday, October 29, 2024 8:42:32 PM (Elapsed Time: 0.33 seconds)\"]' data-show='true'><div id = 'default' /></div></div>"
      ],
      "text/plain": [
       "<Result 'Mosaic\\\\Footprint'>"
      ]
     },
     "execution_count": 22,
     "metadata": {},
     "output_type": "execute_result"
    }
   ],
   "source": [
    "#Add variable to mosaic dataset\n",
    "arcpy.management.CalculateField(\n",
    "    in_table=r\"Mosaic\\Footprint\",\n",
    "    field=\"Variable\",\n",
    "    expression='\"Precipitation\"',\n",
    "    expression_type=\"PYTHON3\",\n",
    "    code_block=\"\",\n",
    "    field_type=\"TEXT\",\n",
    "    enforce_domains=\"NO_ENFORCE_DOMAINS\"\n",
    ")"
   ]
  },
  {
   "cell_type": "code",
   "execution_count": 23,
   "metadata": {},
   "outputs": [
    {
     "data": {
      "text/html": [
       "<div class='gpresult'><h2>Messages</h2><div id='messages' data-messages='[\"Start Time: Tuesday, October 29, 2024 8:42:50 PM\",\"Succeeded at Tuesday, October 29, 2024 8:42:52 PM (Elapsed Time: 1.30 seconds)\"]' data-show='true'><div id = 'default' /></div></div>"
      ],
      "text/plain": [
       "<Result 'Mosaic'>"
      ]
     },
     "execution_count": 23,
     "metadata": {},
     "output_type": "execute_result"
    }
   ],
   "source": [
    "#Add multidimensional metadata to mosaic dataset\n",
    "arcpy.md.BuildMultidimensionalInfo(\n",
    "    in_mosaic_dataset=\"Mosaic\",\n",
    "    variable_field=\"Variable\",\n",
    "    dimension_fields=\"Timestamp # #\",\n",
    "    variable_desc_units=None,\n",
    "    delete_multidimensional_info=\"NO_DELETE_MULTIDIMENSIONAL_INFO\"\n",
    ")"
   ]
  },
  {
   "cell_type": "code",
   "execution_count": 24,
   "metadata": {},
   "outputs": [
    {
     "data": {
      "text/html": [
       "<div class='gpresult'><h2>Messages</h2><div id='messages' data-messages='[\"Start Time: Tuesday, October 29, 2024 8:43:08 PM\",\"Succeeded at Tuesday, October 29, 2024 8:43:14 PM (Elapsed Time: 6.42 seconds)\"]' data-show='true'><div id = 'default' /></div></div>"
      ],
      "text/plain": [
       "<Result 'Mosaic_MultidimLayer'>"
      ]
     },
     "execution_count": 24,
     "metadata": {},
     "output_type": "execute_result"
    }
   ],
   "source": [
    "#Convert mosaic dataset to multidimensional raster layer\n",
    "arcpy.md.MakeMultidimensionalRasterLayer(\n",
    "    in_multidimensional_raster=\"Mosaic\",\n",
    "    out_multidimensional_raster_layer=\"Mosaic_MultidimLayer\",\n",
    "    variables=\"Precipitation\",\n",
    "    dimension_def=\"ALL\",\n",
    "    dimension_ranges=None,\n",
    "    dimension_values=None,\n",
    "    dimension=\"\",\n",
    "    start_of_first_iteration=\"\",\n",
    "    end_of_first_iteration=\"\",\n",
    "    iteration_step=None,\n",
    "    iteration_unit=\"\",\n",
    "    template='-125.020849256 24.0625101097931 -66.479182588865 49.9375101100001 GEOGCS[\"GCS_WGS_1984\",DATUM[\"D_WGS_1984\",SPHEROID[\"WGS_1984\",6378137.0,298.257223563]],PRIMEM[\"Greenwich\",0.0],UNIT[\"Degree\",0.0174532925199433]]',\n",
    "    dimensionless=\"DIMENSIONS\",\n",
    "    spatial_reference=None\n",
    ")"
   ]
  },
  {
   "cell_type": "code",
   "execution_count": 25,
   "metadata": {},
   "outputs": [
    {
     "data": {
      "text/html": [
       "<div class='gpresult'><h2>Messages</h2><div id='messages' data-messages='[\"Start Time: Tuesday, October 29, 2024 8:43:21 PM\",\"WARNING 110290: This tool requires projected data to accurately measure distances.  The Input Multidimensional Raster Layer will be projected to the WGS 1984 World Equidistant Cylindrical projection (WKID 4087).\",\"WARNING 110013: The default Time Step Interval is 1 year.\",\"WARNING 110067: Your spatial reference is not compatible with CF Conventions.  You may experience difficulties using the resulting space-time cube with other NetCDF tools and software.\",[{\"element\":\"table\",\"data\":[[{\"data\":\"Input feature time extent\",\"prop\":{\"rowspan\":2}},\"1991-01-01 00:00:00\"],[{\"data\":\"to 2026-01-01 00:00:00\",\"prop\":{\"text-align\":\"right\"}}],[\"\",\"\"],[\"Number of time steps\",\"36\"],[\"Time step interval\",\"1 year\"],[\"Time step alignment\",\"End\"],[\"\",\"\"],[\"First time step temporal bias\",\"100.00%\"],[{\"data\":\"First time step interval\",\"prop\":{\"rowspan\":4}},\"after\"],[{\"data\":\"1990-01-01 00:00:00\",\"prop\":{\"text-align\":\"right\"}}],[{\"data\":\"to on or before\",\"prop\":{\"text-align\":\"right\"}}],[{\"data\":\"1991-01-01 00:00:00\",\"prop\":{\"text-align\":\"right\"}}],[\"\",\"\"],[\"Last time step temporal bias\",\"0.00%\"],[{\"data\":\"Last time step interval\",\"prop\":{\"rowspan\":4}},\"after\"],[{\"data\":\"2025-01-01 00:00:00\",\"prop\":{\"text-align\":\"right\"}}],[{\"data\":\"to on or before\",\"prop\":{\"text-align\":\"right\"}}],[{\"data\":\"2026-01-01 00:00:00\",\"prop\":{\"text-align\":\"right\"}}],[\"\",\"\"],[\"Coordinate System\",\"WGS 1984 World Equidistant Cylindrical\"],[\"Cube extent across space\",\"(coordinates in meters)\"],[\"Min X\",\"-13894065.7171\"],[\"Min Y\",\"2708363.0866\"],[\"Max X\",\"-7446811.8753\"],[\"Max Y\",\"5478284.8700\"]],\"elementProps\":{\"striped\":\"true\",\"noHeader\":true,\"title\":\"Space Time Cube Characteristics\",\"0\":{\"align\":\"left\",\"pad\":\"0px\",\"wrap\":true},\"1\":{\"align\":\"right\",\"pad\":\"0px\",\"wrap\":true}}}],[{\"element\":\"table\",\"data\":[[\"Locations\",\"485367\"],[\"Total observations\",\"17473212\"]],\"elementProps\":{\"striped\":\"true\",\"noHeader\":true,\"0\":{\"align\":\"left\",\"pad\":\"0px\",\"wrap\":true},\"1\":{\"align\":\"right\",\"pad\":\"0px\",\"wrap\":true}}}],[{\"element\":\"table\",\"data\":[[\"Trend direction\",\"Not Significant\"],[\"Trend statistic\",\"1.4634\"],[\"Trend p-value\",\"0.1434\"]],\"elementProps\":{\"striped\":\"true\",\"noHeader\":true,\"title\":\"Overall Data Trend - PRECIPITATION_NONE_ZEROS\",\"0\":{\"align\":\"left\",\"pad\":\"0px\",\"wrap\":true},\"1\":{\"align\":\"right\",\"pad\":\"0px\",\"wrap\":true}}}],\"Succeeded at Tuesday, October 29, 2024 8:47:23 PM (Elapsed Time: 4 minutes 1 seconds)\"]' data-show='true'><div id = 'default' /></div></div>"
      ],
      "text/plain": [
       "<Result 'C:\\\\Users\\\\tjjoh\\\\Documents\\\\GIS5571\\\\PRISMdata\\\\PRISMstc.nc'>"
      ]
     },
     "execution_count": 25,
     "metadata": {},
     "output_type": "execute_result"
    }
   ],
   "source": [
    "#Create space time cube\n",
    "arcpy.stpm.CreateSpaceTimeCubeMDRasterLayer(\n",
    "    in_md_raster=\"Mosaic_MultidimLayer\",\n",
    "    output_cube=r\"C:\\Users\\tjjoh\\Documents\\GIS5571\\PRISMdata\\PRISMstc.nc\",\n",
    "    fill_empty_bins=\"ZEROS\"\n",
    ")"
   ]
  },
  {
   "cell_type": "code",
   "execution_count": null,
   "metadata": {},
   "outputs": [],
   "source": []
  }
 ],
 "metadata": {
  "kernelspec": {
   "display_name": "ArcGISPro",
   "language": "Python",
   "name": "python3"
  },
  "language_info": {
   "file_extension": ".py",
   "name": "python",
   "version": "3"
  }
 },
 "nbformat": 4,
 "nbformat_minor": 2
}
