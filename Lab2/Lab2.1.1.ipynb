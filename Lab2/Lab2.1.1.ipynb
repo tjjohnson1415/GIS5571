{
 "cells": [
  {
   "cell_type": "code",
   "execution_count": 1,
   "metadata": {},
   "outputs": [],
   "source": [
    "import requests\n",
    "import pandas"
   ]
  },
  {
   "cell_type": "code",
   "execution_count": 2,
   "metadata": {},
   "outputs": [
    {
     "data": {
      "text/html": [
       "<div class='gpresult'><h2>Messages</h2><div id='messages' data-messages='[\"Start Time: Tuesday, October 29, 2024 8:19:11 PM\",\"Succeeded at Tuesday, October 29, 2024 8:19:12 PM (Elapsed Time: 0.73 seconds)\"]' data-show='true'><div id = 'default' /></div></div>"
      ],
      "text/plain": [
       "<Result 'C:/Users/tjjoh/Documents/GIS5571/Lab2_GDB.gdb'>"
      ]
     },
     "execution_count": 2,
     "metadata": {},
     "output_type": "execute_result"
    }
   ],
   "source": [
    "#Create file geodatabase\n",
    "arcpy.management.CreateFileGDB(\n",
    "    out_folder_path = r\"C:/Users/tjjoh/Documents/GIS5571\",\n",
    "    out_name = \"Lab2_GDB\",\n",
    "    out_version = \"CURRENT\"\n",
    ")"
   ]
  },
  {
   "cell_type": "code",
   "execution_count": 3,
   "metadata": {},
   "outputs": [],
   "source": [
    "#url of .las file\n",
    "url = 'https://resources.gisdata.mn.gov/pub/data/elevation/lidar/examples/lidar_sample/las/4342-13-06.las'"
   ]
  },
  {
   "cell_type": "code",
   "execution_count": 4,
   "metadata": {},
   "outputs": [],
   "source": [
    "#Make API call to url\n",
    "response = requests.get(url)"
   ]
  },
  {
   "cell_type": "code",
   "execution_count": 5,
   "metadata": {},
   "outputs": [],
   "source": [
    "#Write the response to a file\n",
    "with open('C:/Users/tjjoh/Documents/GIS5571/data.las', 'wb') as file:\n",
    "    file.write(response.content)"
   ]
  },
  {
   "cell_type": "code",
   "execution_count": 6,
   "metadata": {},
   "outputs": [
    {
     "data": {
      "text/html": [
       "<div class='gpresult'><h2>Messages</h2><div id='messages' data-messages='[\"Start Time: Tuesday, October 29, 2024 8:19:34 PM\",\"Succeeded at Tuesday, October 29, 2024 8:19:36 PM (Elapsed Time: 1.85 seconds)\"]' data-show='true'><div id = 'default' /></div></div>"
      ],
      "text/plain": [
       "<Result 'C:\\\\Users\\\\tjjoh\\\\Documents\\\\GIS5571\\\\Lab2_GDB.gdb\\\\dem'>"
      ]
     },
     "execution_count": 6,
     "metadata": {},
     "output_type": "execute_result"
    }
   ],
   "source": [
    "#Convert .las file to a DEM\n",
    "arcpy.conversion.LasDatasetToRaster(\n",
    "    in_las_dataset = r'C:/Users/tjjoh/Documents/GIS5571/data.las',\n",
    "    out_raster = r'C:/Users/tjjoh/Documents/GIS5571/Lab2_GDB.gdb/dem',\n",
    "    value_field = 'ELEVATION',\n",
    "    interpolation_type = 'BINNING AVERAGE LINEAR',\n",
    "    data_type = 'FLOAT',\n",
    "    sampling_type = 'CELLSIZE',\n",
    "    sampling_value = 10,\n",
    "    z_factor = 1\n",
    ")"
   ]
  },
  {
   "cell_type": "code",
   "execution_count": 7,
   "metadata": {},
   "outputs": [
    {
     "data": {
      "text/html": [
       "<div class='gpresult'><h2>Messages</h2><div id='messages' data-messages='[\"Start Time: Tuesday, October 29, 2024 8:19:40 PM\",\"Succeeded at Tuesday, October 29, 2024 8:19:43 PM (Elapsed Time: 3.33 seconds)\"]' data-show='true'><div id = 'default' /></div></div>"
      ],
      "text/plain": [
       "<Result 'C:\\\\Users\\\\tjjoh\\\\Documents\\\\GIS5571\\\\Lab2_GDB.gdb\\\\tin'>"
      ]
     },
     "execution_count": 7,
     "metadata": {},
     "output_type": "execute_result"
    }
   ],
   "source": [
    "#Convert .las file to a TIN\n",
    "arcpy.ddd.LasDatasetToTin(\n",
    "    in_las_dataset = r'C:/Users/tjjoh/Documents/GIS5571/data.las',\n",
    "    out_tin = r'C:/Users/tjjoh/Documents/GIS5571/Lab2_GDB.gdb/tin',\n",
    "    thinning_type = 'RANDOM',\n",
    "    thinning_method = 'PERCENT',\n",
    "    thinning_value = 13.985,\n",
    "    max_nodes = 5000000,\n",
    "    z_factor = 1,\n",
    "    clip_to_extent = 'CLIP'\n",
    ")"
   ]
  },
  {
   "cell_type": "markdown",
   "metadata": {},
   "source": [
    "Export Layout"
   ]
  },
  {
   "cell_type": "code",
   "execution_count": 8,
   "metadata": {},
   "outputs": [],
   "source": [
    "aprx = arcpy.mp.ArcGISProject('C:/Users/tjjoh/Documents/GIS5571/GIS5571/Lab2/Lab2.aprx')"
   ]
  },
  {
   "cell_type": "code",
   "execution_count": 9,
   "metadata": {},
   "outputs": [],
   "source": [
    "layout = aprx.listLayouts('Layout')[0]"
   ]
  },
  {
   "cell_type": "code",
   "execution_count": 10,
   "metadata": {},
   "outputs": [],
   "source": [
    "map_frame = layout.listElements(\"MAPFRAME_ELEMENT\", \"Map Frame\")[0]"
   ]
  },
  {
   "cell_type": "code",
   "execution_count": 11,
   "metadata": {},
   "outputs": [],
   "source": [
    "map = map_frame.map"
   ]
  },
  {
   "cell_type": "code",
   "execution_count": 12,
   "metadata": {},
   "outputs": [
    {
     "data": {
      "text/plain": [
       "'C:/Users/tjjoh/Documents/GIS5571/dem.pdf'"
      ]
     },
     "execution_count": 12,
     "metadata": {},
     "output_type": "execute_result"
    }
   ],
   "source": [
    "#Export DEM as PDF\n",
    "for layer in map.listLayers():\n",
    "    if layer.name == \"dem\":\n",
    "        layer.visible = True\n",
    "    else:\n",
    "        layer.visible = False\n",
    "        \n",
    "layout.exportToPDF(\"C:/Users/tjjoh/Documents/GIS5571/dem.pdf\", resolution=300)"
   ]
  },
  {
   "cell_type": "code",
   "execution_count": 13,
   "metadata": {},
   "outputs": [
    {
     "data": {
      "text/plain": [
       "'C:/Users/tjjoh/Documents/GIS5571/tin.pdf'"
      ]
     },
     "execution_count": 13,
     "metadata": {},
     "output_type": "execute_result"
    }
   ],
   "source": [
    "#Export TIN as PDF\n",
    "for layer in map.listLayers():\n",
    "    if layer.name == \"tin\":\n",
    "        layer.visible = True\n",
    "    else:\n",
    "        layer.visible = False\n",
    "        \n",
    "layout.exportToPDF(\"C:/Users/tjjoh/Documents/GIS5571/tin.pdf\", resolution=300)"
   ]
  },
  {
   "cell_type": "code",
   "execution_count": null,
   "metadata": {},
   "outputs": [],
   "source": []
  }
 ],
 "metadata": {
  "kernelspec": {
   "display_name": "ArcGISPro",
   "language": "Python",
   "name": "python3"
  },
  "language_info": {
   "file_extension": ".py",
   "name": "python",
   "version": "3"
  }
 },
 "nbformat": 4,
 "nbformat_minor": 2
}
